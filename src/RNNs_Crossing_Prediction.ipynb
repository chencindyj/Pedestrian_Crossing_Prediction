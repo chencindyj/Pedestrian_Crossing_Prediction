{
  "cells": [
    {
      "cell_type": "markdown",
      "metadata": {
        "id": "dNAx257GqFCL"
      },
      "source": [
        "## **Final Project - Predicting Pedestrian Crossings**\n",
        "### Cindy Chen\n",
        "#### Last Updated: 5/30/2022\n"
      ]
    },
    {
      "cell_type": "markdown",
      "metadata": {
        "id": "GXWRNGLjrPvT"
      },
      "source": [
        "## **Project Overview:**\n",
        "\n",
        "#### *Question 1: Describe in detail the substantive problem you are interested in working on for this assignment*\n",
        "\n",
        "---\n",
        "\n",
        "My machine learning problem of interest is the ability to predict whether a pedestrian will cross the street in front of a vehicle based on footage from self-driving vehicles.  I selected this specific problem for its salient and serious nature: the growing adoption of computer vision technology for self-driving cars heightens the risk of pedestrian casualties and injuries, especially when the technology is still nascent.  The critical consequences of an autonomous vehicle hitting even a single pedestrian demands acute attention to pedestrian safety.  Accordingly, the ability to accurately predict whether someone is crossing the street in front of a self-driving car is extremely important. When I was given this question for an internship applications's technical evaluation, I hadn't worked with sequential data for classification at the time.  Accordingly, I would like to re-approach this classification problem with my newly-acquired knowledge of Recurrent Neural Nets (RNNs)."
      ]
    },
    {
      "cell_type": "markdown",
      "metadata": {
        "id": "eh0IX3e0FAk5"
      },
      "source": [
        "### *Question 2: Describe your data (including the features, target, and the general type of data you are working with)*\n",
        "---\n",
        "This project focuses on **annotated** sequential video data about pedestrian crossings. In other words, video data of pedestrians crossing a street have been annotated frame-by-frame with bounding box dimensions and positions, predictive labels such as \"hand wave\" and \"look\" if it occurred in the frame, and outcome labels on whether the pedestrian is crossing in the frame (as well as whether they crossed at any point in the video).  In other words, this data set consists of text, bounding box coordinates, and numeric data; no image data is involved since it has all been translated.\n",
        "\n",
        "The dataset for this project comes from the Joint Attention in Autonomous Driving (JAAD) project from York University, which is a publicly-available dataset aimed at helping train models on pedestrian and driver behaviors, as well as factors that motivate them.\n",
        "\n",
        "Each row of the dataframe consists of some meta data about the video id and a specific pedestrian id, as well as an ordered list of frames where that pedestrian appears.\n",
        "\n",
        "**FEATURES:**\n",
        "* frame_numbers - the frame (starting from 0) of the annotated video\n",
        "\n",
        "* bounding_boxes - Series of boxes that align with the frame_numbers field.  Each box is constructed of [box x, box y, box width, box height], where x and y represent the upper left hand corner of the box\n",
        "\n",
        "* moving_slow, stopped, handwave, look, clear path, moving fast, looking, standing, slow down, nod, speed up - Annotated pedestrian attributes whose values are binary (1 or 0) based on whether that action occurred in the frame.\n",
        "\n",
        "* crossing - Whether the pedestrian is crossing in the specific frame. I include this as an independent variable because drivers usually have context on whether someone is already crossing the street in the past.\n",
        "\n",
        "**TARGET:**\n",
        "\n",
        "* crossing - Whether or not the pedestrian is crossing in the specific frame.  My target variable will be whether the pedestrian is crossing in the NEXT frame."
      ]
    },
    {
      "cell_type": "code",
      "source": [
        "% pip install keras_tuner"
      ],
      "metadata": {
        "id": "eOkubBB5o7A8",
        "colab": {
          "base_uri": "https://localhost:8080/"
        },
        "outputId": "f1e3c151-369a-46be-b7ed-bde3c86ceaa1"
      },
      "execution_count": 1,
      "outputs": [
        {
          "output_type": "stream",
          "name": "stdout",
          "text": [
            "Looking in indexes: https://pypi.org/simple, https://us-python.pkg.dev/colab-wheels/public/simple/\n",
            "Requirement already satisfied: keras_tuner in /usr/local/lib/python3.7/dist-packages (1.1.2)\n",
            "Requirement already satisfied: tensorboard in /usr/local/lib/python3.7/dist-packages (from keras_tuner) (2.8.0)\n",
            "Requirement already satisfied: numpy in /usr/local/lib/python3.7/dist-packages (from keras_tuner) (1.21.6)\n",
            "Requirement already satisfied: kt-legacy in /usr/local/lib/python3.7/dist-packages (from keras_tuner) (1.0.4)\n",
            "Requirement already satisfied: ipython in /usr/local/lib/python3.7/dist-packages (from keras_tuner) (5.5.0)\n",
            "Requirement already satisfied: packaging in /usr/local/lib/python3.7/dist-packages (from keras_tuner) (21.3)\n",
            "Requirement already satisfied: requests in /usr/local/lib/python3.7/dist-packages (from keras_tuner) (2.23.0)\n",
            "Requirement already satisfied: simplegeneric>0.8 in /usr/local/lib/python3.7/dist-packages (from ipython->keras_tuner) (0.8.1)\n",
            "Requirement already satisfied: decorator in /usr/local/lib/python3.7/dist-packages (from ipython->keras_tuner) (4.4.2)\n",
            "Requirement already satisfied: pexpect in /usr/local/lib/python3.7/dist-packages (from ipython->keras_tuner) (4.8.0)\n",
            "Requirement already satisfied: traitlets>=4.2 in /usr/local/lib/python3.7/dist-packages (from ipython->keras_tuner) (5.1.1)\n",
            "Requirement already satisfied: setuptools>=18.5 in /usr/local/lib/python3.7/dist-packages (from ipython->keras_tuner) (57.4.0)\n",
            "Requirement already satisfied: pickleshare in /usr/local/lib/python3.7/dist-packages (from ipython->keras_tuner) (0.7.5)\n",
            "Requirement already satisfied: prompt-toolkit<2.0.0,>=1.0.4 in /usr/local/lib/python3.7/dist-packages (from ipython->keras_tuner) (1.0.18)\n",
            "Requirement already satisfied: pygments in /usr/local/lib/python3.7/dist-packages (from ipython->keras_tuner) (2.6.1)\n",
            "Requirement already satisfied: wcwidth in /usr/local/lib/python3.7/dist-packages (from prompt-toolkit<2.0.0,>=1.0.4->ipython->keras_tuner) (0.2.5)\n",
            "Requirement already satisfied: six>=1.9.0 in /usr/local/lib/python3.7/dist-packages (from prompt-toolkit<2.0.0,>=1.0.4->ipython->keras_tuner) (1.15.0)\n",
            "Requirement already satisfied: pyparsing!=3.0.5,>=2.0.2 in /usr/local/lib/python3.7/dist-packages (from packaging->keras_tuner) (3.0.9)\n",
            "Requirement already satisfied: ptyprocess>=0.5 in /usr/local/lib/python3.7/dist-packages (from pexpect->ipython->keras_tuner) (0.7.0)\n",
            "Requirement already satisfied: idna<3,>=2.5 in /usr/local/lib/python3.7/dist-packages (from requests->keras_tuner) (2.10)\n",
            "Requirement already satisfied: urllib3!=1.25.0,!=1.25.1,<1.26,>=1.21.1 in /usr/local/lib/python3.7/dist-packages (from requests->keras_tuner) (1.24.3)\n",
            "Requirement already satisfied: certifi>=2017.4.17 in /usr/local/lib/python3.7/dist-packages (from requests->keras_tuner) (2022.5.18.1)\n",
            "Requirement already satisfied: chardet<4,>=3.0.2 in /usr/local/lib/python3.7/dist-packages (from requests->keras_tuner) (3.0.4)\n",
            "Requirement already satisfied: google-auth<3,>=1.6.3 in /usr/local/lib/python3.7/dist-packages (from tensorboard->keras_tuner) (1.35.0)\n",
            "Requirement already satisfied: google-auth-oauthlib<0.5,>=0.4.1 in /usr/local/lib/python3.7/dist-packages (from tensorboard->keras_tuner) (0.4.6)\n",
            "Requirement already satisfied: wheel>=0.26 in /usr/local/lib/python3.7/dist-packages (from tensorboard->keras_tuner) (0.37.1)\n",
            "Requirement already satisfied: absl-py>=0.4 in /usr/local/lib/python3.7/dist-packages (from tensorboard->keras_tuner) (1.0.0)\n",
            "Requirement already satisfied: tensorboard-data-server<0.7.0,>=0.6.0 in /usr/local/lib/python3.7/dist-packages (from tensorboard->keras_tuner) (0.6.1)\n",
            "Requirement already satisfied: grpcio>=1.24.3 in /usr/local/lib/python3.7/dist-packages (from tensorboard->keras_tuner) (1.46.1)\n",
            "Requirement already satisfied: tensorboard-plugin-wit>=1.6.0 in /usr/local/lib/python3.7/dist-packages (from tensorboard->keras_tuner) (1.8.1)\n",
            "Requirement already satisfied: werkzeug>=0.11.15 in /usr/local/lib/python3.7/dist-packages (from tensorboard->keras_tuner) (1.0.1)\n",
            "Requirement already satisfied: markdown>=2.6.8 in /usr/local/lib/python3.7/dist-packages (from tensorboard->keras_tuner) (3.3.7)\n",
            "Requirement already satisfied: protobuf>=3.6.0 in /usr/local/lib/python3.7/dist-packages (from tensorboard->keras_tuner) (3.17.3)\n",
            "Requirement already satisfied: rsa<5,>=3.1.4 in /usr/local/lib/python3.7/dist-packages (from google-auth<3,>=1.6.3->tensorboard->keras_tuner) (4.8)\n",
            "Requirement already satisfied: cachetools<5.0,>=2.0.0 in /usr/local/lib/python3.7/dist-packages (from google-auth<3,>=1.6.3->tensorboard->keras_tuner) (4.2.4)\n",
            "Requirement already satisfied: pyasn1-modules>=0.2.1 in /usr/local/lib/python3.7/dist-packages (from google-auth<3,>=1.6.3->tensorboard->keras_tuner) (0.2.8)\n",
            "Requirement already satisfied: requests-oauthlib>=0.7.0 in /usr/local/lib/python3.7/dist-packages (from google-auth-oauthlib<0.5,>=0.4.1->tensorboard->keras_tuner) (1.3.1)\n",
            "Requirement already satisfied: importlib-metadata>=4.4 in /usr/local/lib/python3.7/dist-packages (from markdown>=2.6.8->tensorboard->keras_tuner) (4.11.3)\n",
            "Requirement already satisfied: zipp>=0.5 in /usr/local/lib/python3.7/dist-packages (from importlib-metadata>=4.4->markdown>=2.6.8->tensorboard->keras_tuner) (3.8.0)\n",
            "Requirement already satisfied: typing-extensions>=3.6.4 in /usr/local/lib/python3.7/dist-packages (from importlib-metadata>=4.4->markdown>=2.6.8->tensorboard->keras_tuner) (4.2.0)\n",
            "Requirement already satisfied: pyasn1<0.5.0,>=0.4.6 in /usr/local/lib/python3.7/dist-packages (from pyasn1-modules>=0.2.1->google-auth<3,>=1.6.3->tensorboard->keras_tuner) (0.4.8)\n",
            "Requirement already satisfied: oauthlib>=3.0.0 in /usr/local/lib/python3.7/dist-packages (from requests-oauthlib>=0.7.0->google-auth-oauthlib<0.5,>=0.4.1->tensorboard->keras_tuner) (3.2.0)\n"
          ]
        }
      ]
    },
    {
      "cell_type": "code",
      "execution_count": 2,
      "metadata": {
        "id": "10oSdJGBqFCR"
      },
      "outputs": [],
      "source": [
        "import ast\n",
        "import pandas as pd\n",
        "import numpy as np\n",
        "import tensorflow as tf\n",
        "\n",
        "# preprocessing\n",
        "from imblearn.over_sampling import RandomOverSampler\n",
        "from sklearn.decomposition import PCA\n",
        "from sklearn.preprocessing import StandardScaler\n",
        "\n",
        "# for reproducibility\n",
        "tf.random.set_seed(20220429)\n",
        "\n",
        "# RNN\n",
        "from tensorflow.keras.optimizers import Adam, Adagrad, Adadelta\n",
        "from keras.models import Sequential, Model\n",
        "from keras.layers import LSTM, Dense, Dropout, Flatten, Activation, BatchNormalization, GlobalMaxPooling1D, SimpleRNN, Bidirectional, GRU\n",
        "from sklearn.model_selection import train_test_split\n",
        "from tensorflow.python.keras.utils import np_utils\n",
        "\n",
        "# keras tuner\n",
        "import keras_tuner as kt"
      ]
    },
    {
      "cell_type": "code",
      "execution_count": 3,
      "metadata": {
        "id": "xaGckY-BrBkJ"
      },
      "outputs": [],
      "source": [
        "# read the data\n",
        "# data had to be converted to excel format because there is an issue reading the data as a csv\n",
        "pedestrians_df = pd.read_excel('pedestrian_df_excel.xlsx', sheet_name = 'pedestrian_df')"
      ]
    },
    {
      "cell_type": "code",
      "execution_count": 4,
      "metadata": {
        "id": "BaYXdYGcqFCa"
      },
      "outputs": [],
      "source": [
        "# apply function over each column to remove extra quotations in the data\n",
        "\n",
        "for col_name in ['bounding_boxes',\n",
        "                 'frame_numbers',\n",
        "                 'moving slow',\n",
        "                 'stopped',\n",
        "                 'handwave',\n",
        "                 'look',\n",
        "                 'clear path',\n",
        "                 'crossing',\n",
        "                 'moving fast',\n",
        "                 'looking',\n",
        "                 'standing',\n",
        "                 'slow down',\n",
        "                 'nod',\n",
        "                 'speed up']:\n",
        "                 pedestrians_df[col_name] = pedestrians_df[col_name].apply(ast.literal_eval)"
      ]
    },
    {
      "cell_type": "code",
      "execution_count": 5,
      "metadata": {
        "id": "cy-R18r84w2F",
        "colab": {
          "base_uri": "https://localhost:8080/",
          "height": 789
        },
        "outputId": "e380262e-a6de-4db7-d0f1-23cdec6b0198"
      },
      "outputs": [
        {
          "output_type": "execute_result",
          "data": {
            "text/plain": [
              "     video_id ped_ind                                      frame_numbers  \\\n",
              "0  video_0071       1  [0, 1, 2, 3, 4, 5, 6, 7, 8, 9, 10, 11, 12, 13,...   \n",
              "1  video_0071       2  [0, 1, 2, 3, 4, 5, 6, 7, 8, 9, 10, 11, 12, 13,...   \n",
              "2  video_0204       1  [3, 4, 5, 6, 7, 8, 9, 10, 11, 12, 13, 14, 15, ...   \n",
              "3  video_0204       3  [0, 1, 2, 3, 4, 5, 6, 7, 8, 9, 10, 11, 12, 13,...   \n",
              "4  video_0204       2  [0, 1, 2, 3, 4, 5, 6, 7, 8, 9, 10, 11, 12, 13,...   \n",
              "\n",
              "                                      bounding_boxes  \\\n",
              "0  [[1209, 598, 51, 191], [1214, 598, 52, 192], [...   \n",
              "1  [[1249, 621, 51, 127], [1254, 620, 51, 129], [...   \n",
              "2  [[1135, 673, 28, 97], [1139, 672, 29, 92], [11...   \n",
              "3  [[906, 670, 35, 65], [906, 672, 32, 65], [907,...   \n",
              "4  [[1152, 657, 42, 114], [1158, 657, 42, 117], [...   \n",
              "\n",
              "                                         moving slow  \\\n",
              "0  [False, False, False, False, False, False, Fal...   \n",
              "1  [True, True, True, True, True, True, True, Tru...   \n",
              "2  [False, False, False, False, False, False, Fal...   \n",
              "3  [False, False, False, False, False, False, Fal...   \n",
              "4  [False, False, False, False, False, False, Fal...   \n",
              "\n",
              "                                             stopped  \\\n",
              "0  [True, True, True, True, True, True, True, Tru...   \n",
              "1  [False, False, False, False, False, False, Fal...   \n",
              "2  [False, False, False, False, False, False, Fal...   \n",
              "3  [False, False, False, False, False, False, Fal...   \n",
              "4  [True, True, True, True, True, True, True, Tru...   \n",
              "\n",
              "                                            handwave  \\\n",
              "0  [False, False, False, False, False, False, Fal...   \n",
              "1  [False, False, False, False, False, False, Fal...   \n",
              "2  [False, False, False, False, False, False, Fal...   \n",
              "3  [False, False, False, False, False, False, Fal...   \n",
              "4  [False, False, False, False, False, False, Fal...   \n",
              "\n",
              "                                                look  \\\n",
              "0  [False, False, False, False, False, False, Fal...   \n",
              "1  [False, False, False, False, False, False, Fal...   \n",
              "2  [False, False, False, False, False, False, Fal...   \n",
              "3  [False, False, False, False, False, False, Fal...   \n",
              "4  [False, False, False, False, False, False, Fal...   \n",
              "\n",
              "                                          clear path  \\\n",
              "0  [False, False, False, False, False, False, Fal...   \n",
              "1  [False, False, False, False, False, False, Fal...   \n",
              "2  [False, False, False, False, False, False, Fal...   \n",
              "3  [False, False, False, False, False, False, Fal...   \n",
              "4  [False, False, False, False, False, False, Fal...   \n",
              "\n",
              "                                            crossing  \\\n",
              "0  [False, False, False, False, False, False, Fal...   \n",
              "1  [False, False, False, False, False, False, Fal...   \n",
              "2  [True, True, True, True, True, True, True, Tru...   \n",
              "3  [True, True, True, True, True, True, True, Tru...   \n",
              "4  [False, False, False, False, False, False, Fal...   \n",
              "\n",
              "                                         moving fast  \\\n",
              "0  [False, False, False, False, False, False, Fal...   \n",
              "1  [False, False, False, False, False, False, Fal...   \n",
              "2  [False, False, False, False, False, False, Fal...   \n",
              "3  [False, False, False, False, False, False, Fal...   \n",
              "4  [False, False, False, False, False, False, Fal...   \n",
              "\n",
              "                                             looking  \\\n",
              "0  [False, False, False, False, False, False, Fal...   \n",
              "1  [True, True, True, True, True, True, True, Tru...   \n",
              "2  [False, False, False, False, False, False, Fal...   \n",
              "3  [False, False, False, False, False, False, Fal...   \n",
              "4  [True, True, True, True, True, True, True, Tru...   \n",
              "\n",
              "                                            standing  \\\n",
              "0  [False, False, False, False, False, False, Fal...   \n",
              "1  [False, False, False, False, False, False, Fal...   \n",
              "2  [False, False, False, False, False, False, Fal...   \n",
              "3  [False, False, False, False, False, False, Fal...   \n",
              "4  [False, False, False, False, False, False, Fal...   \n",
              "\n",
              "                                           slow down  \\\n",
              "0  [False, False, False, False, False, False, Fal...   \n",
              "1  [False, False, False, False, False, False, Fal...   \n",
              "2  [False, False, False, False, False, False, Fal...   \n",
              "3  [False, False, False, False, False, False, Fal...   \n",
              "4  [False, False, False, False, False, False, Fal...   \n",
              "\n",
              "                                                 nod  \\\n",
              "0  [False, False, False, False, False, False, Fal...   \n",
              "1  [False, False, False, False, False, False, Fal...   \n",
              "2  [False, False, False, False, False, False, Fal...   \n",
              "3  [False, False, False, False, False, False, Fal...   \n",
              "4  [False, False, False, False, False, False, Fal...   \n",
              "\n",
              "                                            speed up  cross_overall  \n",
              "0  [False, False, False, False, False, False, Fal...          False  \n",
              "1  [False, False, False, False, False, False, Fal...           True  \n",
              "2  [False, False, False, False, False, False, Fal...           True  \n",
              "3  [False, False, False, False, False, False, Fal...           True  \n",
              "4  [False, False, False, False, False, False, Fal...          False  "
            ],
            "text/html": [
              "\n",
              "  <div id=\"df-f2559ddf-4113-4d92-91f2-6f35bbf70ff4\">\n",
              "    <div class=\"colab-df-container\">\n",
              "      <div>\n",
              "<style scoped>\n",
              "    .dataframe tbody tr th:only-of-type {\n",
              "        vertical-align: middle;\n",
              "    }\n",
              "\n",
              "    .dataframe tbody tr th {\n",
              "        vertical-align: top;\n",
              "    }\n",
              "\n",
              "    .dataframe thead th {\n",
              "        text-align: right;\n",
              "    }\n",
              "</style>\n",
              "<table border=\"1\" class=\"dataframe\">\n",
              "  <thead>\n",
              "    <tr style=\"text-align: right;\">\n",
              "      <th></th>\n",
              "      <th>video_id</th>\n",
              "      <th>ped_ind</th>\n",
              "      <th>frame_numbers</th>\n",
              "      <th>bounding_boxes</th>\n",
              "      <th>moving slow</th>\n",
              "      <th>stopped</th>\n",
              "      <th>handwave</th>\n",
              "      <th>look</th>\n",
              "      <th>clear path</th>\n",
              "      <th>crossing</th>\n",
              "      <th>moving fast</th>\n",
              "      <th>looking</th>\n",
              "      <th>standing</th>\n",
              "      <th>slow down</th>\n",
              "      <th>nod</th>\n",
              "      <th>speed up</th>\n",
              "      <th>cross_overall</th>\n",
              "    </tr>\n",
              "  </thead>\n",
              "  <tbody>\n",
              "    <tr>\n",
              "      <th>0</th>\n",
              "      <td>video_0071</td>\n",
              "      <td>1</td>\n",
              "      <td>[0, 1, 2, 3, 4, 5, 6, 7, 8, 9, 10, 11, 12, 13,...</td>\n",
              "      <td>[[1209, 598, 51, 191], [1214, 598, 52, 192], [...</td>\n",
              "      <td>[False, False, False, False, False, False, Fal...</td>\n",
              "      <td>[True, True, True, True, True, True, True, Tru...</td>\n",
              "      <td>[False, False, False, False, False, False, Fal...</td>\n",
              "      <td>[False, False, False, False, False, False, Fal...</td>\n",
              "      <td>[False, False, False, False, False, False, Fal...</td>\n",
              "      <td>[False, False, False, False, False, False, Fal...</td>\n",
              "      <td>[False, False, False, False, False, False, Fal...</td>\n",
              "      <td>[False, False, False, False, False, False, Fal...</td>\n",
              "      <td>[False, False, False, False, False, False, Fal...</td>\n",
              "      <td>[False, False, False, False, False, False, Fal...</td>\n",
              "      <td>[False, False, False, False, False, False, Fal...</td>\n",
              "      <td>[False, False, False, False, False, False, Fal...</td>\n",
              "      <td>False</td>\n",
              "    </tr>\n",
              "    <tr>\n",
              "      <th>1</th>\n",
              "      <td>video_0071</td>\n",
              "      <td>2</td>\n",
              "      <td>[0, 1, 2, 3, 4, 5, 6, 7, 8, 9, 10, 11, 12, 13,...</td>\n",
              "      <td>[[1249, 621, 51, 127], [1254, 620, 51, 129], [...</td>\n",
              "      <td>[True, True, True, True, True, True, True, Tru...</td>\n",
              "      <td>[False, False, False, False, False, False, Fal...</td>\n",
              "      <td>[False, False, False, False, False, False, Fal...</td>\n",
              "      <td>[False, False, False, False, False, False, Fal...</td>\n",
              "      <td>[False, False, False, False, False, False, Fal...</td>\n",
              "      <td>[False, False, False, False, False, False, Fal...</td>\n",
              "      <td>[False, False, False, False, False, False, Fal...</td>\n",
              "      <td>[True, True, True, True, True, True, True, Tru...</td>\n",
              "      <td>[False, False, False, False, False, False, Fal...</td>\n",
              "      <td>[False, False, False, False, False, False, Fal...</td>\n",
              "      <td>[False, False, False, False, False, False, Fal...</td>\n",
              "      <td>[False, False, False, False, False, False, Fal...</td>\n",
              "      <td>True</td>\n",
              "    </tr>\n",
              "    <tr>\n",
              "      <th>2</th>\n",
              "      <td>video_0204</td>\n",
              "      <td>1</td>\n",
              "      <td>[3, 4, 5, 6, 7, 8, 9, 10, 11, 12, 13, 14, 15, ...</td>\n",
              "      <td>[[1135, 673, 28, 97], [1139, 672, 29, 92], [11...</td>\n",
              "      <td>[False, False, False, False, False, False, Fal...</td>\n",
              "      <td>[False, False, False, False, False, False, Fal...</td>\n",
              "      <td>[False, False, False, False, False, False, Fal...</td>\n",
              "      <td>[False, False, False, False, False, False, Fal...</td>\n",
              "      <td>[False, False, False, False, False, False, Fal...</td>\n",
              "      <td>[True, True, True, True, True, True, True, Tru...</td>\n",
              "      <td>[False, False, False, False, False, False, Fal...</td>\n",
              "      <td>[False, False, False, False, False, False, Fal...</td>\n",
              "      <td>[False, False, False, False, False, False, Fal...</td>\n",
              "      <td>[False, False, False, False, False, False, Fal...</td>\n",
              "      <td>[False, False, False, False, False, False, Fal...</td>\n",
              "      <td>[False, False, False, False, False, False, Fal...</td>\n",
              "      <td>True</td>\n",
              "    </tr>\n",
              "    <tr>\n",
              "      <th>3</th>\n",
              "      <td>video_0204</td>\n",
              "      <td>3</td>\n",
              "      <td>[0, 1, 2, 3, 4, 5, 6, 7, 8, 9, 10, 11, 12, 13,...</td>\n",
              "      <td>[[906, 670, 35, 65], [906, 672, 32, 65], [907,...</td>\n",
              "      <td>[False, False, False, False, False, False, Fal...</td>\n",
              "      <td>[False, False, False, False, False, False, Fal...</td>\n",
              "      <td>[False, False, False, False, False, False, Fal...</td>\n",
              "      <td>[False, False, False, False, False, False, Fal...</td>\n",
              "      <td>[False, False, False, False, False, False, Fal...</td>\n",
              "      <td>[True, True, True, True, True, True, True, Tru...</td>\n",
              "      <td>[False, False, False, False, False, False, Fal...</td>\n",
              "      <td>[False, False, False, False, False, False, Fal...</td>\n",
              "      <td>[False, False, False, False, False, False, Fal...</td>\n",
              "      <td>[False, False, False, False, False, False, Fal...</td>\n",
              "      <td>[False, False, False, False, False, False, Fal...</td>\n",
              "      <td>[False, False, False, False, False, False, Fal...</td>\n",
              "      <td>True</td>\n",
              "    </tr>\n",
              "    <tr>\n",
              "      <th>4</th>\n",
              "      <td>video_0204</td>\n",
              "      <td>2</td>\n",
              "      <td>[0, 1, 2, 3, 4, 5, 6, 7, 8, 9, 10, 11, 12, 13,...</td>\n",
              "      <td>[[1152, 657, 42, 114], [1158, 657, 42, 117], [...</td>\n",
              "      <td>[False, False, False, False, False, False, Fal...</td>\n",
              "      <td>[True, True, True, True, True, True, True, Tru...</td>\n",
              "      <td>[False, False, False, False, False, False, Fal...</td>\n",
              "      <td>[False, False, False, False, False, False, Fal...</td>\n",
              "      <td>[False, False, False, False, False, False, Fal...</td>\n",
              "      <td>[False, False, False, False, False, False, Fal...</td>\n",
              "      <td>[False, False, False, False, False, False, Fal...</td>\n",
              "      <td>[True, True, True, True, True, True, True, Tru...</td>\n",
              "      <td>[False, False, False, False, False, False, Fal...</td>\n",
              "      <td>[False, False, False, False, False, False, Fal...</td>\n",
              "      <td>[False, False, False, False, False, False, Fal...</td>\n",
              "      <td>[False, False, False, False, False, False, Fal...</td>\n",
              "      <td>False</td>\n",
              "    </tr>\n",
              "  </tbody>\n",
              "</table>\n",
              "</div>\n",
              "      <button class=\"colab-df-convert\" onclick=\"convertToInteractive('df-f2559ddf-4113-4d92-91f2-6f35bbf70ff4')\"\n",
              "              title=\"Convert this dataframe to an interactive table.\"\n",
              "              style=\"display:none;\">\n",
              "        \n",
              "  <svg xmlns=\"http://www.w3.org/2000/svg\" height=\"24px\"viewBox=\"0 0 24 24\"\n",
              "       width=\"24px\">\n",
              "    <path d=\"M0 0h24v24H0V0z\" fill=\"none\"/>\n",
              "    <path d=\"M18.56 5.44l.94 2.06.94-2.06 2.06-.94-2.06-.94-.94-2.06-.94 2.06-2.06.94zm-11 1L8.5 8.5l.94-2.06 2.06-.94-2.06-.94L8.5 2.5l-.94 2.06-2.06.94zm10 10l.94 2.06.94-2.06 2.06-.94-2.06-.94-.94-2.06-.94 2.06-2.06.94z\"/><path d=\"M17.41 7.96l-1.37-1.37c-.4-.4-.92-.59-1.43-.59-.52 0-1.04.2-1.43.59L10.3 9.45l-7.72 7.72c-.78.78-.78 2.05 0 2.83L4 21.41c.39.39.9.59 1.41.59.51 0 1.02-.2 1.41-.59l7.78-7.78 2.81-2.81c.8-.78.8-2.07 0-2.86zM5.41 20L4 18.59l7.72-7.72 1.47 1.35L5.41 20z\"/>\n",
              "  </svg>\n",
              "      </button>\n",
              "      \n",
              "  <style>\n",
              "    .colab-df-container {\n",
              "      display:flex;\n",
              "      flex-wrap:wrap;\n",
              "      gap: 12px;\n",
              "    }\n",
              "\n",
              "    .colab-df-convert {\n",
              "      background-color: #E8F0FE;\n",
              "      border: none;\n",
              "      border-radius: 50%;\n",
              "      cursor: pointer;\n",
              "      display: none;\n",
              "      fill: #1967D2;\n",
              "      height: 32px;\n",
              "      padding: 0 0 0 0;\n",
              "      width: 32px;\n",
              "    }\n",
              "\n",
              "    .colab-df-convert:hover {\n",
              "      background-color: #E2EBFA;\n",
              "      box-shadow: 0px 1px 2px rgba(60, 64, 67, 0.3), 0px 1px 3px 1px rgba(60, 64, 67, 0.15);\n",
              "      fill: #174EA6;\n",
              "    }\n",
              "\n",
              "    [theme=dark] .colab-df-convert {\n",
              "      background-color: #3B4455;\n",
              "      fill: #D2E3FC;\n",
              "    }\n",
              "\n",
              "    [theme=dark] .colab-df-convert:hover {\n",
              "      background-color: #434B5C;\n",
              "      box-shadow: 0px 1px 3px 1px rgba(0, 0, 0, 0.15);\n",
              "      filter: drop-shadow(0px 1px 2px rgba(0, 0, 0, 0.3));\n",
              "      fill: #FFFFFF;\n",
              "    }\n",
              "  </style>\n",
              "\n",
              "      <script>\n",
              "        const buttonEl =\n",
              "          document.querySelector('#df-f2559ddf-4113-4d92-91f2-6f35bbf70ff4 button.colab-df-convert');\n",
              "        buttonEl.style.display =\n",
              "          google.colab.kernel.accessAllowed ? 'block' : 'none';\n",
              "\n",
              "        async function convertToInteractive(key) {\n",
              "          const element = document.querySelector('#df-f2559ddf-4113-4d92-91f2-6f35bbf70ff4');\n",
              "          const dataTable =\n",
              "            await google.colab.kernel.invokeFunction('convertToInteractive',\n",
              "                                                     [key], {});\n",
              "          if (!dataTable) return;\n",
              "\n",
              "          const docLinkHtml = 'Like what you see? Visit the ' +\n",
              "            '<a target=\"_blank\" href=https://colab.research.google.com/notebooks/data_table.ipynb>data table notebook</a>'\n",
              "            + ' to learn more about interactive tables.';\n",
              "          element.innerHTML = '';\n",
              "          dataTable['output_type'] = 'display_data';\n",
              "          await google.colab.output.renderOutput(dataTable, element);\n",
              "          const docLink = document.createElement('div');\n",
              "          docLink.innerHTML = docLinkHtml;\n",
              "          element.appendChild(docLink);\n",
              "        }\n",
              "      </script>\n",
              "    </div>\n",
              "  </div>\n",
              "  "
            ]
          },
          "metadata": {},
          "execution_count": 5
        }
      ],
      "source": [
        "# view the original nested data frame\n",
        "pedestrians_df.head()"
      ]
    },
    {
      "cell_type": "code",
      "execution_count": 6,
      "metadata": {
        "id": "sxOpRITHqFCd",
        "colab": {
          "base_uri": "https://localhost:8080/"
        },
        "outputId": "e032c6c0-4cac-4519-f4ec-d52c16e0bdd7"
      },
      "outputs": [
        {
          "output_type": "stream",
          "name": "stdout",
          "text": [
            "video_id                                                 video_0071\n",
            "ped_ind                                                           1\n",
            "frame_numbers     [0, 1, 2, 3, 4, 5, 6, 7, 8, 9, 10, 11, 12, 13,...\n",
            "bounding_boxes    [[1209, 598, 51, 191], [1214, 598, 52, 192], [...\n",
            "moving slow       [False, False, False, False, False, False, Fal...\n",
            "stopped           [True, True, True, True, True, True, True, Tru...\n",
            "handwave          [False, False, False, False, False, False, Fal...\n",
            "look              [False, False, False, False, False, False, Fal...\n",
            "clear path        [False, False, False, False, False, False, Fal...\n",
            "crossing          [False, False, False, False, False, False, Fal...\n",
            "moving fast       [False, False, False, False, False, False, Fal...\n",
            "looking           [False, False, False, False, False, False, Fal...\n",
            "standing          [False, False, False, False, False, False, Fal...\n",
            "slow down         [False, False, False, False, False, False, Fal...\n",
            "nod               [False, False, False, False, False, False, Fal...\n",
            "speed up          [False, False, False, False, False, False, Fal...\n",
            "cross_overall                                                 False\n",
            "Name: 0, dtype: object\n"
          ]
        }
      ],
      "source": [
        "# Let's take a more in-depth look at that first row:\n",
        "print(pedestrians_df.iloc[0])"
      ]
    },
    {
      "cell_type": "markdown",
      "metadata": {
        "id": "7oeoPm_JFbge"
      },
      "source": [
        "### *Question 3: Describe why you think Deep Learning systems would be a good methodological choice, and the specific architecture(s) you think appropriate to explore*\n",
        "---\n",
        "\n",
        "Deep learning is an ideal method to analyze the annotated pedestrian crossing data, because the nature of the predictions rests on sequential/historical data.  After all, when a driver (or autonomous vehicle) makes a decision to slow down, stop, maintain the same speed, or speed up when they see a pedestrian has much to do with the pedestrian's sequence of observed actions. Order matters!  Are they stationary and staring at the car, or do they keep waving to signal their intention to cross? What if they wave intermittently, does that mean they are about to cross?\n",
        "\n",
        "Basic classification models like random forests and logistic regressions can neither efficiently nor effectively incorporate history or sequences into their data to make a prediction of what will happen next.  Accordingly, I plan to use a **Recurrent Neural Network** because they incorporate sequential information and can drop information as needed.  In the realm of RNNs, I plan to experiment with various cells like LSTMs and GRUs when running my models."
      ]
    },
    {
      "cell_type": "markdown",
      "metadata": {
        "id": "x2BOqZawFlFE"
      },
      "source": [
        "### *Question 4: Show the code and outputs of 3-5 different experiments with variants of your proposed architecture(s)*\n",
        "---\n",
        "#### Step 1: Preprocess data\n",
        "\n",
        "#### **NOTE: PREPROCESSING THE DATA WAS THE MOST DIFFICULT PART**\n",
        "\n",
        "Add padding to my data set so that each annotated video is the same length (930 frames)\n",
        "\n",
        "* I chose to pad at the beginning of the video"
      ]
    },
    {
      "cell_type": "code",
      "execution_count": 7,
      "metadata": {
        "id": "tRaU5Y4J5eXV"
      },
      "outputs": [],
      "source": [
        "# identify the video with the longest frames, because all our padding must yield resulting arrays to match those dimensions\n",
        "max_ped_len = 930\n",
        "\n",
        "for row_id in range(0, 666, 1):\n",
        "  \n",
        "  for col_name in ['moving slow', 'stopped', 'handwave', 'look', 'clear path', \n",
        "                 'crossing', 'moving fast', 'looking', 'standing', 'slow down', 'nod', 'speed up']:\n",
        "                   test_len = pedestrians_df.iloc[row_id][col_name]\n",
        "                   selected_ped_len = len(test_len)\n",
        "                   \n",
        "                   padded_array = np.pad(test_len, (max_ped_len - selected_ped_len,0), mode = \"constant\")[0:930]\n",
        "                   \n",
        "                   # replace original values with padded data\n",
        "                   pedestrians_df.at[row_id, col_name] = padded_array\n",
        "\n",
        "  # reset all the frame numbers\n",
        "  pedestrians_df.at[row_id, 'frame_numbers'] = np.arange(0, 930, 1)\n",
        "\n",
        "  # create fake bounding boxes for padding\n",
        "  test_len = pedestrians_df.iloc[row_id]['bounding_boxes']\n",
        "  selected_ped_len = len(test_len)\n",
        "  padded_array = np.pad(test_len, [(max_ped_len - selected_ped_len, 0), (0, 0)], mode = \"constant\")\n",
        "  pedestrians_df.at[row_id, 'bounding_boxes'] = padded_array"
      ]
    },
    {
      "cell_type": "code",
      "execution_count": 8,
      "metadata": {
        "id": "JGnJLqA-AXD0",
        "colab": {
          "base_uri": "https://localhost:8080/",
          "height": 789
        },
        "outputId": "2e2eea4a-fa46-42c1-e5ae-769b1ce4fde2"
      },
      "outputs": [
        {
          "output_type": "execute_result",
          "data": {
            "text/plain": [
              "     video_id ped_ind                                      frame_numbers  \\\n",
              "0  video_0071       1  [0, 1, 2, 3, 4, 5, 6, 7, 8, 9, 10, 11, 12, 13,...   \n",
              "1  video_0071       2  [0, 1, 2, 3, 4, 5, 6, 7, 8, 9, 10, 11, 12, 13,...   \n",
              "2  video_0204       1  [0, 1, 2, 3, 4, 5, 6, 7, 8, 9, 10, 11, 12, 13,...   \n",
              "3  video_0204       3  [0, 1, 2, 3, 4, 5, 6, 7, 8, 9, 10, 11, 12, 13,...   \n",
              "4  video_0204       2  [0, 1, 2, 3, 4, 5, 6, 7, 8, 9, 10, 11, 12, 13,...   \n",
              "\n",
              "                                      bounding_boxes  \\\n",
              "0  [[0.0, 0.0, 0.0, 0.0], [0.0, 0.0, 0.0, 0.0], [...   \n",
              "1  [[0.0, 0.0, 0.0, 0.0], [0.0, 0.0, 0.0, 0.0], [...   \n",
              "2  [[0, 0, 0, 0], [0, 0, 0, 0], [0, 0, 0, 0], [0,...   \n",
              "3  [[0, 0, 0, 0], [0, 0, 0, 0], [0, 0, 0, 0], [0,...   \n",
              "4  [[0.0, 0.0, 0.0, 0.0], [0.0, 0.0, 0.0, 0.0], [...   \n",
              "\n",
              "                                         moving slow  \\\n",
              "0  [False, False, False, False, False, False, Fal...   \n",
              "1  [False, False, False, False, False, False, Fal...   \n",
              "2  [False, False, False, False, False, False, Fal...   \n",
              "3  [False, False, False, False, False, False, Fal...   \n",
              "4  [False, False, False, False, False, False, Fal...   \n",
              "\n",
              "                                             stopped  \\\n",
              "0  [False, False, False, False, False, False, Fal...   \n",
              "1  [False, False, False, False, False, False, Fal...   \n",
              "2  [False, False, False, False, False, False, Fal...   \n",
              "3  [False, False, False, False, False, False, Fal...   \n",
              "4  [False, False, False, False, False, False, Fal...   \n",
              "\n",
              "                                            handwave  \\\n",
              "0  [False, False, False, False, False, False, Fal...   \n",
              "1  [False, False, False, False, False, False, Fal...   \n",
              "2  [False, False, False, False, False, False, Fal...   \n",
              "3  [False, False, False, False, False, False, Fal...   \n",
              "4  [False, False, False, False, False, False, Fal...   \n",
              "\n",
              "                                                look  \\\n",
              "0  [False, False, False, False, False, False, Fal...   \n",
              "1  [False, False, False, False, False, False, Fal...   \n",
              "2  [False, False, False, False, False, False, Fal...   \n",
              "3  [False, False, False, False, False, False, Fal...   \n",
              "4  [False, False, False, False, False, False, Fal...   \n",
              "\n",
              "                                          clear path  \\\n",
              "0  [False, False, False, False, False, False, Fal...   \n",
              "1  [False, False, False, False, False, False, Fal...   \n",
              "2  [False, False, False, False, False, False, Fal...   \n",
              "3  [False, False, False, False, False, False, Fal...   \n",
              "4  [False, False, False, False, False, False, Fal...   \n",
              "\n",
              "                                            crossing  \\\n",
              "0  [False, False, False, False, False, False, Fal...   \n",
              "1  [False, False, False, False, False, False, Fal...   \n",
              "2  [False, False, False, False, False, False, Fal...   \n",
              "3  [False, False, False, False, False, False, Fal...   \n",
              "4  [False, False, False, False, False, False, Fal...   \n",
              "\n",
              "                                         moving fast  \\\n",
              "0  [False, False, False, False, False, False, Fal...   \n",
              "1  [False, False, False, False, False, False, Fal...   \n",
              "2  [False, False, False, False, False, False, Fal...   \n",
              "3  [False, False, False, False, False, False, Fal...   \n",
              "4  [False, False, False, False, False, False, Fal...   \n",
              "\n",
              "                                             looking  \\\n",
              "0  [False, False, False, False, False, False, Fal...   \n",
              "1  [False, False, False, False, False, False, Fal...   \n",
              "2  [False, False, False, False, False, False, Fal...   \n",
              "3  [False, False, False, False, False, False, Fal...   \n",
              "4  [False, False, False, False, False, False, Fal...   \n",
              "\n",
              "                                            standing  \\\n",
              "0  [False, False, False, False, False, False, Fal...   \n",
              "1  [False, False, False, False, False, False, Fal...   \n",
              "2  [False, False, False, False, False, False, Fal...   \n",
              "3  [False, False, False, False, False, False, Fal...   \n",
              "4  [False, False, False, False, False, False, Fal...   \n",
              "\n",
              "                                           slow down  \\\n",
              "0  [False, False, False, False, False, False, Fal...   \n",
              "1  [False, False, False, False, False, False, Fal...   \n",
              "2  [False, False, False, False, False, False, Fal...   \n",
              "3  [False, False, False, False, False, False, Fal...   \n",
              "4  [False, False, False, False, False, False, Fal...   \n",
              "\n",
              "                                                 nod  \\\n",
              "0  [False, False, False, False, False, False, Fal...   \n",
              "1  [False, False, False, False, False, False, Fal...   \n",
              "2  [False, False, False, False, False, False, Fal...   \n",
              "3  [False, False, False, False, False, False, Fal...   \n",
              "4  [False, False, False, False, False, False, Fal...   \n",
              "\n",
              "                                            speed up  cross_overall  \n",
              "0  [False, False, False, False, False, False, Fal...          False  \n",
              "1  [False, False, False, False, False, False, Fal...           True  \n",
              "2  [False, False, False, False, False, False, Fal...           True  \n",
              "3  [False, False, False, False, False, False, Fal...           True  \n",
              "4  [False, False, False, False, False, False, Fal...          False  "
            ],
            "text/html": [
              "\n",
              "  <div id=\"df-45b846d5-0266-4a0b-b334-01dff8209acf\">\n",
              "    <div class=\"colab-df-container\">\n",
              "      <div>\n",
              "<style scoped>\n",
              "    .dataframe tbody tr th:only-of-type {\n",
              "        vertical-align: middle;\n",
              "    }\n",
              "\n",
              "    .dataframe tbody tr th {\n",
              "        vertical-align: top;\n",
              "    }\n",
              "\n",
              "    .dataframe thead th {\n",
              "        text-align: right;\n",
              "    }\n",
              "</style>\n",
              "<table border=\"1\" class=\"dataframe\">\n",
              "  <thead>\n",
              "    <tr style=\"text-align: right;\">\n",
              "      <th></th>\n",
              "      <th>video_id</th>\n",
              "      <th>ped_ind</th>\n",
              "      <th>frame_numbers</th>\n",
              "      <th>bounding_boxes</th>\n",
              "      <th>moving slow</th>\n",
              "      <th>stopped</th>\n",
              "      <th>handwave</th>\n",
              "      <th>look</th>\n",
              "      <th>clear path</th>\n",
              "      <th>crossing</th>\n",
              "      <th>moving fast</th>\n",
              "      <th>looking</th>\n",
              "      <th>standing</th>\n",
              "      <th>slow down</th>\n",
              "      <th>nod</th>\n",
              "      <th>speed up</th>\n",
              "      <th>cross_overall</th>\n",
              "    </tr>\n",
              "  </thead>\n",
              "  <tbody>\n",
              "    <tr>\n",
              "      <th>0</th>\n",
              "      <td>video_0071</td>\n",
              "      <td>1</td>\n",
              "      <td>[0, 1, 2, 3, 4, 5, 6, 7, 8, 9, 10, 11, 12, 13,...</td>\n",
              "      <td>[[0.0, 0.0, 0.0, 0.0], [0.0, 0.0, 0.0, 0.0], [...</td>\n",
              "      <td>[False, False, False, False, False, False, Fal...</td>\n",
              "      <td>[False, False, False, False, False, False, Fal...</td>\n",
              "      <td>[False, False, False, False, False, False, Fal...</td>\n",
              "      <td>[False, False, False, False, False, False, Fal...</td>\n",
              "      <td>[False, False, False, False, False, False, Fal...</td>\n",
              "      <td>[False, False, False, False, False, False, Fal...</td>\n",
              "      <td>[False, False, False, False, False, False, Fal...</td>\n",
              "      <td>[False, False, False, False, False, False, Fal...</td>\n",
              "      <td>[False, False, False, False, False, False, Fal...</td>\n",
              "      <td>[False, False, False, False, False, False, Fal...</td>\n",
              "      <td>[False, False, False, False, False, False, Fal...</td>\n",
              "      <td>[False, False, False, False, False, False, Fal...</td>\n",
              "      <td>False</td>\n",
              "    </tr>\n",
              "    <tr>\n",
              "      <th>1</th>\n",
              "      <td>video_0071</td>\n",
              "      <td>2</td>\n",
              "      <td>[0, 1, 2, 3, 4, 5, 6, 7, 8, 9, 10, 11, 12, 13,...</td>\n",
              "      <td>[[0.0, 0.0, 0.0, 0.0], [0.0, 0.0, 0.0, 0.0], [...</td>\n",
              "      <td>[False, False, False, False, False, False, Fal...</td>\n",
              "      <td>[False, False, False, False, False, False, Fal...</td>\n",
              "      <td>[False, False, False, False, False, False, Fal...</td>\n",
              "      <td>[False, False, False, False, False, False, Fal...</td>\n",
              "      <td>[False, False, False, False, False, False, Fal...</td>\n",
              "      <td>[False, False, False, False, False, False, Fal...</td>\n",
              "      <td>[False, False, False, False, False, False, Fal...</td>\n",
              "      <td>[False, False, False, False, False, False, Fal...</td>\n",
              "      <td>[False, False, False, False, False, False, Fal...</td>\n",
              "      <td>[False, False, False, False, False, False, Fal...</td>\n",
              "      <td>[False, False, False, False, False, False, Fal...</td>\n",
              "      <td>[False, False, False, False, False, False, Fal...</td>\n",
              "      <td>True</td>\n",
              "    </tr>\n",
              "    <tr>\n",
              "      <th>2</th>\n",
              "      <td>video_0204</td>\n",
              "      <td>1</td>\n",
              "      <td>[0, 1, 2, 3, 4, 5, 6, 7, 8, 9, 10, 11, 12, 13,...</td>\n",
              "      <td>[[0, 0, 0, 0], [0, 0, 0, 0], [0, 0, 0, 0], [0,...</td>\n",
              "      <td>[False, False, False, False, False, False, Fal...</td>\n",
              "      <td>[False, False, False, False, False, False, Fal...</td>\n",
              "      <td>[False, False, False, False, False, False, Fal...</td>\n",
              "      <td>[False, False, False, False, False, False, Fal...</td>\n",
              "      <td>[False, False, False, False, False, False, Fal...</td>\n",
              "      <td>[False, False, False, False, False, False, Fal...</td>\n",
              "      <td>[False, False, False, False, False, False, Fal...</td>\n",
              "      <td>[False, False, False, False, False, False, Fal...</td>\n",
              "      <td>[False, False, False, False, False, False, Fal...</td>\n",
              "      <td>[False, False, False, False, False, False, Fal...</td>\n",
              "      <td>[False, False, False, False, False, False, Fal...</td>\n",
              "      <td>[False, False, False, False, False, False, Fal...</td>\n",
              "      <td>True</td>\n",
              "    </tr>\n",
              "    <tr>\n",
              "      <th>3</th>\n",
              "      <td>video_0204</td>\n",
              "      <td>3</td>\n",
              "      <td>[0, 1, 2, 3, 4, 5, 6, 7, 8, 9, 10, 11, 12, 13,...</td>\n",
              "      <td>[[0, 0, 0, 0], [0, 0, 0, 0], [0, 0, 0, 0], [0,...</td>\n",
              "      <td>[False, False, False, False, False, False, Fal...</td>\n",
              "      <td>[False, False, False, False, False, False, Fal...</td>\n",
              "      <td>[False, False, False, False, False, False, Fal...</td>\n",
              "      <td>[False, False, False, False, False, False, Fal...</td>\n",
              "      <td>[False, False, False, False, False, False, Fal...</td>\n",
              "      <td>[False, False, False, False, False, False, Fal...</td>\n",
              "      <td>[False, False, False, False, False, False, Fal...</td>\n",
              "      <td>[False, False, False, False, False, False, Fal...</td>\n",
              "      <td>[False, False, False, False, False, False, Fal...</td>\n",
              "      <td>[False, False, False, False, False, False, Fal...</td>\n",
              "      <td>[False, False, False, False, False, False, Fal...</td>\n",
              "      <td>[False, False, False, False, False, False, Fal...</td>\n",
              "      <td>True</td>\n",
              "    </tr>\n",
              "    <tr>\n",
              "      <th>4</th>\n",
              "      <td>video_0204</td>\n",
              "      <td>2</td>\n",
              "      <td>[0, 1, 2, 3, 4, 5, 6, 7, 8, 9, 10, 11, 12, 13,...</td>\n",
              "      <td>[[0.0, 0.0, 0.0, 0.0], [0.0, 0.0, 0.0, 0.0], [...</td>\n",
              "      <td>[False, False, False, False, False, False, Fal...</td>\n",
              "      <td>[False, False, False, False, False, False, Fal...</td>\n",
              "      <td>[False, False, False, False, False, False, Fal...</td>\n",
              "      <td>[False, False, False, False, False, False, Fal...</td>\n",
              "      <td>[False, False, False, False, False, False, Fal...</td>\n",
              "      <td>[False, False, False, False, False, False, Fal...</td>\n",
              "      <td>[False, False, False, False, False, False, Fal...</td>\n",
              "      <td>[False, False, False, False, False, False, Fal...</td>\n",
              "      <td>[False, False, False, False, False, False, Fal...</td>\n",
              "      <td>[False, False, False, False, False, False, Fal...</td>\n",
              "      <td>[False, False, False, False, False, False, Fal...</td>\n",
              "      <td>[False, False, False, False, False, False, Fal...</td>\n",
              "      <td>False</td>\n",
              "    </tr>\n",
              "  </tbody>\n",
              "</table>\n",
              "</div>\n",
              "      <button class=\"colab-df-convert\" onclick=\"convertToInteractive('df-45b846d5-0266-4a0b-b334-01dff8209acf')\"\n",
              "              title=\"Convert this dataframe to an interactive table.\"\n",
              "              style=\"display:none;\">\n",
              "        \n",
              "  <svg xmlns=\"http://www.w3.org/2000/svg\" height=\"24px\"viewBox=\"0 0 24 24\"\n",
              "       width=\"24px\">\n",
              "    <path d=\"M0 0h24v24H0V0z\" fill=\"none\"/>\n",
              "    <path d=\"M18.56 5.44l.94 2.06.94-2.06 2.06-.94-2.06-.94-.94-2.06-.94 2.06-2.06.94zm-11 1L8.5 8.5l.94-2.06 2.06-.94-2.06-.94L8.5 2.5l-.94 2.06-2.06.94zm10 10l.94 2.06.94-2.06 2.06-.94-2.06-.94-.94-2.06-.94 2.06-2.06.94z\"/><path d=\"M17.41 7.96l-1.37-1.37c-.4-.4-.92-.59-1.43-.59-.52 0-1.04.2-1.43.59L10.3 9.45l-7.72 7.72c-.78.78-.78 2.05 0 2.83L4 21.41c.39.39.9.59 1.41.59.51 0 1.02-.2 1.41-.59l7.78-7.78 2.81-2.81c.8-.78.8-2.07 0-2.86zM5.41 20L4 18.59l7.72-7.72 1.47 1.35L5.41 20z\"/>\n",
              "  </svg>\n",
              "      </button>\n",
              "      \n",
              "  <style>\n",
              "    .colab-df-container {\n",
              "      display:flex;\n",
              "      flex-wrap:wrap;\n",
              "      gap: 12px;\n",
              "    }\n",
              "\n",
              "    .colab-df-convert {\n",
              "      background-color: #E8F0FE;\n",
              "      border: none;\n",
              "      border-radius: 50%;\n",
              "      cursor: pointer;\n",
              "      display: none;\n",
              "      fill: #1967D2;\n",
              "      height: 32px;\n",
              "      padding: 0 0 0 0;\n",
              "      width: 32px;\n",
              "    }\n",
              "\n",
              "    .colab-df-convert:hover {\n",
              "      background-color: #E2EBFA;\n",
              "      box-shadow: 0px 1px 2px rgba(60, 64, 67, 0.3), 0px 1px 3px 1px rgba(60, 64, 67, 0.15);\n",
              "      fill: #174EA6;\n",
              "    }\n",
              "\n",
              "    [theme=dark] .colab-df-convert {\n",
              "      background-color: #3B4455;\n",
              "      fill: #D2E3FC;\n",
              "    }\n",
              "\n",
              "    [theme=dark] .colab-df-convert:hover {\n",
              "      background-color: #434B5C;\n",
              "      box-shadow: 0px 1px 3px 1px rgba(0, 0, 0, 0.15);\n",
              "      filter: drop-shadow(0px 1px 2px rgba(0, 0, 0, 0.3));\n",
              "      fill: #FFFFFF;\n",
              "    }\n",
              "  </style>\n",
              "\n",
              "      <script>\n",
              "        const buttonEl =\n",
              "          document.querySelector('#df-45b846d5-0266-4a0b-b334-01dff8209acf button.colab-df-convert');\n",
              "        buttonEl.style.display =\n",
              "          google.colab.kernel.accessAllowed ? 'block' : 'none';\n",
              "\n",
              "        async function convertToInteractive(key) {\n",
              "          const element = document.querySelector('#df-45b846d5-0266-4a0b-b334-01dff8209acf');\n",
              "          const dataTable =\n",
              "            await google.colab.kernel.invokeFunction('convertToInteractive',\n",
              "                                                     [key], {});\n",
              "          if (!dataTable) return;\n",
              "\n",
              "          const docLinkHtml = 'Like what you see? Visit the ' +\n",
              "            '<a target=\"_blank\" href=https://colab.research.google.com/notebooks/data_table.ipynb>data table notebook</a>'\n",
              "            + ' to learn more about interactive tables.';\n",
              "          element.innerHTML = '';\n",
              "          dataTable['output_type'] = 'display_data';\n",
              "          await google.colab.output.renderOutput(dataTable, element);\n",
              "          const docLink = document.createElement('div');\n",
              "          docLink.innerHTML = docLinkHtml;\n",
              "          element.appendChild(docLink);\n",
              "        }\n",
              "      </script>\n",
              "    </div>\n",
              "  </div>\n",
              "  "
            ]
          },
          "metadata": {},
          "execution_count": 8
        }
      ],
      "source": [
        "# preview the new data frame (I expect to see lots of zeros and False values in the first part of the preview since this ensures that my\n",
        "# bounding boxes are appearing correctly)\n",
        "pedestrians_df.head()"
      ]
    },
    {
      "cell_type": "code",
      "execution_count": 9,
      "metadata": {
        "id": "WHNlau9cdmL9"
      },
      "outputs": [],
      "source": [
        "# take only the first 300 videos due to RAM capacity constraints while using Google Colab Pro\n",
        "pedestrians_df = pedestrians_df[0:400]"
      ]
    },
    {
      "cell_type": "markdown",
      "metadata": {
        "id": "2lHNHd5hwgCU"
      },
      "source": [
        "### Step 2. Unravel the data frame\n",
        "\n",
        "I must unravel the entire data frame since it is in a nested data frame so that each row is a unique pedestrian frame, and certain data points like the bounding box features must be separated into their own columns."
      ]
    },
    {
      "cell_type": "code",
      "source": [
        "def unravel_dataframe(input_dataframe):\n",
        "  # incorporate bounding boxes last\n",
        "  attributes = ['frame_numbers', 'moving slow', 'stopped', 'handwave', 'look', 'clear path', 'crossing', 'moving fast',\n",
        "              'looking', 'standing', 'slow down', 'nod', 'speed up']\n",
        "              \n",
        "  new_ped = pd.DataFrame() #create empty data frame\n",
        "  final_df = pd.DataFrame() #create empty data frame\n",
        "  bounding = pd.DataFrame() #create empty data frame\n",
        "  \n",
        "  # run loop to unravel the nested lists and format as a data frame\n",
        "  for i in range(len(input_dataframe)):\n",
        "    \n",
        "    new_ped = pd.DataFrame() #clear dataframe\n",
        "    \n",
        "    for j in attributes:\n",
        "      # convert a nested list into a data frame column specific to a single pedestrian\n",
        "      new_column = pd.DataFrame(input_dataframe.iloc[i][j]) \n",
        "      \n",
        "      # concatenate the column to the other columns specific to a single pedestrian\n",
        "      new_ped = pd.concat([new_ped, new_column], axis = 1) \n",
        "\n",
        "    # convert existing pedestrians_df columns for concatenation\n",
        "    input_dataframe['video_id'] = input_dataframe['video_id'].astype(str)\n",
        "    input_dataframe['ped_ind'] = input_dataframe['ped_ind'].astype(str)\n",
        "\n",
        "    # create a unique pedestrian id based on the video ID and the pedestrian_ind #\n",
        "    new_ped['unique_pedestrian'] = input_dataframe.iloc[i]['video_id']  + \"_\" + input_dataframe.iloc[i]['ped_ind']\n",
        "    \n",
        "    # incorporate bounding box dimensions\n",
        "    bounding = pd.DataFrame(input_dataframe.iloc[i]['bounding_boxes'])\n",
        "  \n",
        "    new_ped = pd.concat([new_ped, bounding], axis = 1)\n",
        "    final_df = final_df.append(new_ped) #append these concatenated columns to my final data frmae\n",
        "\n",
        "  # rename certain columns\n",
        "  final_df.columns = ['frame_numbers', 'moving slow', 'stopped', 'handwave', 'look', 'clear path', 'crossing', 'moving fast',\n",
        "                    'looking', 'standing','slow down', 'nod', 'speed up', 'unique_pedestrian', 'bb_x', 'bb_y', 'bb_width', 'bb_height']\n",
        "\n",
        "  # rearrange my columns and reset my index\n",
        "  final_df = final_df[['unique_pedestrian', 'frame_numbers', 'bb_x', 'bb_y', 'bb_width', 'bb_height', 'moving slow', 'stopped', 'handwave', 'look', 'clear path',\n",
        "                     'moving fast', 'looking', 'standing','slow down', 'nod', 'speed up', 'crossing']].reset_index(inplace = False)\n",
        "\n",
        "\n",
        "  # remove the index column that was created\n",
        "  final_df = final_df.drop([\"index\"], axis = 1, inplace = False)\n",
        "\n",
        "  # create a new data frame, which helps us keep track of different versions of the data frame\n",
        "  df_with_numeric = pd.DataFrame()\n",
        "\n",
        "  # replace the boolean values with 1.0 or 0.0 since I want to run calculations on these values\n",
        "  for i in final_df.columns:\n",
        "    df_with_numeric[i] = final_df[i].replace({True: 1.0, False: 0.0})\n",
        "\n",
        "  # alter column names that have spaces in them to include underscores instead\n",
        "  df_with_numeric.columns = [c.replace(' ', '_') for c in df_with_numeric.columns]\n",
        "\n",
        "  return(df_with_numeric)"
      ],
      "metadata": {
        "id": "c3dRgCkGMXB3"
      },
      "execution_count": 10,
      "outputs": []
    },
    {
      "cell_type": "code",
      "source": [
        "df_with_numeric = unravel_dataframe(pedestrians_df)"
      ],
      "metadata": {
        "id": "IFpobM15UnbK"
      },
      "execution_count": 11,
      "outputs": []
    },
    {
      "cell_type": "code",
      "execution_count": 12,
      "metadata": {
        "id": "eXAHVQxsq-K3",
        "colab": {
          "base_uri": "https://localhost:8080/"
        },
        "outputId": "7c02a168-8630-49b0-91bc-81c90027a434"
      },
      "outputs": [
        {
          "output_type": "stream",
          "name": "stdout",
          "text": [
            "<class 'pandas.core.frame.DataFrame'>\n",
            "RangeIndex: 372000 entries, 0 to 371999\n",
            "Data columns (total 18 columns):\n",
            " #   Column             Non-Null Count   Dtype  \n",
            "---  ------             --------------   -----  \n",
            " 0   unique_pedestrian  372000 non-null  object \n",
            " 1   frame_numbers      372000 non-null  int64  \n",
            " 2   bb_x               372000 non-null  float64\n",
            " 3   bb_y               372000 non-null  float64\n",
            " 4   bb_width           372000 non-null  float64\n",
            " 5   bb_height          372000 non-null  float64\n",
            " 6   moving_slow        372000 non-null  float64\n",
            " 7   stopped            372000 non-null  float64\n",
            " 8   handwave           372000 non-null  float64\n",
            " 9   look               372000 non-null  float64\n",
            " 10  clear_path         372000 non-null  float64\n",
            " 11  moving_fast        372000 non-null  float64\n",
            " 12  looking            372000 non-null  float64\n",
            " 13  standing           372000 non-null  float64\n",
            " 14  slow_down          372000 non-null  float64\n",
            " 15  nod                372000 non-null  float64\n",
            " 16  speed_up           372000 non-null  float64\n",
            " 17  crossing           372000 non-null  float64\n",
            "dtypes: float64(16), int64(1), object(1)\n",
            "memory usage: 51.1+ MB\n"
          ]
        }
      ],
      "source": [
        "# review the current status of the data frame\n",
        "df_with_numeric.info()"
      ]
    },
    {
      "cell_type": "code",
      "execution_count": 13,
      "metadata": {
        "id": "NRXjKHiBR-lo",
        "colab": {
          "base_uri": "https://localhost:8080/",
          "height": 206
        },
        "outputId": "0da97ef1-3174-456c-9e77-cb13944a1b9b"
      },
      "outputs": [
        {
          "output_type": "execute_result",
          "data": {
            "text/plain": [
              "       unique_pedestrian  frame_numbers    bb_x        bb_y    bb_width  \\\n",
              "371995      video_0137_0            925  1563.0  578.777778  162.444444   \n",
              "371996      video_0137_0            926  1591.0  577.333333  164.333333   \n",
              "371997      video_0137_0            927  1619.0  575.888889  166.222222   \n",
              "371998      video_0137_0            928  1647.0  574.444444  168.111111   \n",
              "371999      video_0137_0            929  1675.0  573.000000  170.000000   \n",
              "\n",
              "         bb_height  moving_slow  stopped  handwave  look  clear_path  \\\n",
              "371995  500.669591          0.0      0.0       0.0   1.0         0.0   \n",
              "371996  502.377193          0.0      0.0       0.0   1.0         0.0   \n",
              "371997  504.084795          0.0      0.0       0.0   1.0         0.0   \n",
              "371998  505.792398          0.0      0.0       0.0   1.0         0.0   \n",
              "371999  507.500000          0.0      0.0       0.0   1.0         0.0   \n",
              "\n",
              "        moving_fast  looking  standing  slow_down  nod  speed_up  crossing  \n",
              "371995          0.0      0.0       0.0        0.0  0.0       0.0       1.0  \n",
              "371996          0.0      0.0       0.0        0.0  0.0       0.0       1.0  \n",
              "371997          0.0      0.0       0.0        0.0  0.0       0.0       1.0  \n",
              "371998          0.0      0.0       0.0        0.0  0.0       0.0       1.0  \n",
              "371999          0.0      0.0       0.0        0.0  0.0       0.0       1.0  "
            ],
            "text/html": [
              "\n",
              "  <div id=\"df-e52cb2a2-e42b-42ff-bc6c-53f173f95b13\">\n",
              "    <div class=\"colab-df-container\">\n",
              "      <div>\n",
              "<style scoped>\n",
              "    .dataframe tbody tr th:only-of-type {\n",
              "        vertical-align: middle;\n",
              "    }\n",
              "\n",
              "    .dataframe tbody tr th {\n",
              "        vertical-align: top;\n",
              "    }\n",
              "\n",
              "    .dataframe thead th {\n",
              "        text-align: right;\n",
              "    }\n",
              "</style>\n",
              "<table border=\"1\" class=\"dataframe\">\n",
              "  <thead>\n",
              "    <tr style=\"text-align: right;\">\n",
              "      <th></th>\n",
              "      <th>unique_pedestrian</th>\n",
              "      <th>frame_numbers</th>\n",
              "      <th>bb_x</th>\n",
              "      <th>bb_y</th>\n",
              "      <th>bb_width</th>\n",
              "      <th>bb_height</th>\n",
              "      <th>moving_slow</th>\n",
              "      <th>stopped</th>\n",
              "      <th>handwave</th>\n",
              "      <th>look</th>\n",
              "      <th>clear_path</th>\n",
              "      <th>moving_fast</th>\n",
              "      <th>looking</th>\n",
              "      <th>standing</th>\n",
              "      <th>slow_down</th>\n",
              "      <th>nod</th>\n",
              "      <th>speed_up</th>\n",
              "      <th>crossing</th>\n",
              "    </tr>\n",
              "  </thead>\n",
              "  <tbody>\n",
              "    <tr>\n",
              "      <th>371995</th>\n",
              "      <td>video_0137_0</td>\n",
              "      <td>925</td>\n",
              "      <td>1563.0</td>\n",
              "      <td>578.777778</td>\n",
              "      <td>162.444444</td>\n",
              "      <td>500.669591</td>\n",
              "      <td>0.0</td>\n",
              "      <td>0.0</td>\n",
              "      <td>0.0</td>\n",
              "      <td>1.0</td>\n",
              "      <td>0.0</td>\n",
              "      <td>0.0</td>\n",
              "      <td>0.0</td>\n",
              "      <td>0.0</td>\n",
              "      <td>0.0</td>\n",
              "      <td>0.0</td>\n",
              "      <td>0.0</td>\n",
              "      <td>1.0</td>\n",
              "    </tr>\n",
              "    <tr>\n",
              "      <th>371996</th>\n",
              "      <td>video_0137_0</td>\n",
              "      <td>926</td>\n",
              "      <td>1591.0</td>\n",
              "      <td>577.333333</td>\n",
              "      <td>164.333333</td>\n",
              "      <td>502.377193</td>\n",
              "      <td>0.0</td>\n",
              "      <td>0.0</td>\n",
              "      <td>0.0</td>\n",
              "      <td>1.0</td>\n",
              "      <td>0.0</td>\n",
              "      <td>0.0</td>\n",
              "      <td>0.0</td>\n",
              "      <td>0.0</td>\n",
              "      <td>0.0</td>\n",
              "      <td>0.0</td>\n",
              "      <td>0.0</td>\n",
              "      <td>1.0</td>\n",
              "    </tr>\n",
              "    <tr>\n",
              "      <th>371997</th>\n",
              "      <td>video_0137_0</td>\n",
              "      <td>927</td>\n",
              "      <td>1619.0</td>\n",
              "      <td>575.888889</td>\n",
              "      <td>166.222222</td>\n",
              "      <td>504.084795</td>\n",
              "      <td>0.0</td>\n",
              "      <td>0.0</td>\n",
              "      <td>0.0</td>\n",
              "      <td>1.0</td>\n",
              "      <td>0.0</td>\n",
              "      <td>0.0</td>\n",
              "      <td>0.0</td>\n",
              "      <td>0.0</td>\n",
              "      <td>0.0</td>\n",
              "      <td>0.0</td>\n",
              "      <td>0.0</td>\n",
              "      <td>1.0</td>\n",
              "    </tr>\n",
              "    <tr>\n",
              "      <th>371998</th>\n",
              "      <td>video_0137_0</td>\n",
              "      <td>928</td>\n",
              "      <td>1647.0</td>\n",
              "      <td>574.444444</td>\n",
              "      <td>168.111111</td>\n",
              "      <td>505.792398</td>\n",
              "      <td>0.0</td>\n",
              "      <td>0.0</td>\n",
              "      <td>0.0</td>\n",
              "      <td>1.0</td>\n",
              "      <td>0.0</td>\n",
              "      <td>0.0</td>\n",
              "      <td>0.0</td>\n",
              "      <td>0.0</td>\n",
              "      <td>0.0</td>\n",
              "      <td>0.0</td>\n",
              "      <td>0.0</td>\n",
              "      <td>1.0</td>\n",
              "    </tr>\n",
              "    <tr>\n",
              "      <th>371999</th>\n",
              "      <td>video_0137_0</td>\n",
              "      <td>929</td>\n",
              "      <td>1675.0</td>\n",
              "      <td>573.000000</td>\n",
              "      <td>170.000000</td>\n",
              "      <td>507.500000</td>\n",
              "      <td>0.0</td>\n",
              "      <td>0.0</td>\n",
              "      <td>0.0</td>\n",
              "      <td>1.0</td>\n",
              "      <td>0.0</td>\n",
              "      <td>0.0</td>\n",
              "      <td>0.0</td>\n",
              "      <td>0.0</td>\n",
              "      <td>0.0</td>\n",
              "      <td>0.0</td>\n",
              "      <td>0.0</td>\n",
              "      <td>1.0</td>\n",
              "    </tr>\n",
              "  </tbody>\n",
              "</table>\n",
              "</div>\n",
              "      <button class=\"colab-df-convert\" onclick=\"convertToInteractive('df-e52cb2a2-e42b-42ff-bc6c-53f173f95b13')\"\n",
              "              title=\"Convert this dataframe to an interactive table.\"\n",
              "              style=\"display:none;\">\n",
              "        \n",
              "  <svg xmlns=\"http://www.w3.org/2000/svg\" height=\"24px\"viewBox=\"0 0 24 24\"\n",
              "       width=\"24px\">\n",
              "    <path d=\"M0 0h24v24H0V0z\" fill=\"none\"/>\n",
              "    <path d=\"M18.56 5.44l.94 2.06.94-2.06 2.06-.94-2.06-.94-.94-2.06-.94 2.06-2.06.94zm-11 1L8.5 8.5l.94-2.06 2.06-.94-2.06-.94L8.5 2.5l-.94 2.06-2.06.94zm10 10l.94 2.06.94-2.06 2.06-.94-2.06-.94-.94-2.06-.94 2.06-2.06.94z\"/><path d=\"M17.41 7.96l-1.37-1.37c-.4-.4-.92-.59-1.43-.59-.52 0-1.04.2-1.43.59L10.3 9.45l-7.72 7.72c-.78.78-.78 2.05 0 2.83L4 21.41c.39.39.9.59 1.41.59.51 0 1.02-.2 1.41-.59l7.78-7.78 2.81-2.81c.8-.78.8-2.07 0-2.86zM5.41 20L4 18.59l7.72-7.72 1.47 1.35L5.41 20z\"/>\n",
              "  </svg>\n",
              "      </button>\n",
              "      \n",
              "  <style>\n",
              "    .colab-df-container {\n",
              "      display:flex;\n",
              "      flex-wrap:wrap;\n",
              "      gap: 12px;\n",
              "    }\n",
              "\n",
              "    .colab-df-convert {\n",
              "      background-color: #E8F0FE;\n",
              "      border: none;\n",
              "      border-radius: 50%;\n",
              "      cursor: pointer;\n",
              "      display: none;\n",
              "      fill: #1967D2;\n",
              "      height: 32px;\n",
              "      padding: 0 0 0 0;\n",
              "      width: 32px;\n",
              "    }\n",
              "\n",
              "    .colab-df-convert:hover {\n",
              "      background-color: #E2EBFA;\n",
              "      box-shadow: 0px 1px 2px rgba(60, 64, 67, 0.3), 0px 1px 3px 1px rgba(60, 64, 67, 0.15);\n",
              "      fill: #174EA6;\n",
              "    }\n",
              "\n",
              "    [theme=dark] .colab-df-convert {\n",
              "      background-color: #3B4455;\n",
              "      fill: #D2E3FC;\n",
              "    }\n",
              "\n",
              "    [theme=dark] .colab-df-convert:hover {\n",
              "      background-color: #434B5C;\n",
              "      box-shadow: 0px 1px 3px 1px rgba(0, 0, 0, 0.15);\n",
              "      filter: drop-shadow(0px 1px 2px rgba(0, 0, 0, 0.3));\n",
              "      fill: #FFFFFF;\n",
              "    }\n",
              "  </style>\n",
              "\n",
              "      <script>\n",
              "        const buttonEl =\n",
              "          document.querySelector('#df-e52cb2a2-e42b-42ff-bc6c-53f173f95b13 button.colab-df-convert');\n",
              "        buttonEl.style.display =\n",
              "          google.colab.kernel.accessAllowed ? 'block' : 'none';\n",
              "\n",
              "        async function convertToInteractive(key) {\n",
              "          const element = document.querySelector('#df-e52cb2a2-e42b-42ff-bc6c-53f173f95b13');\n",
              "          const dataTable =\n",
              "            await google.colab.kernel.invokeFunction('convertToInteractive',\n",
              "                                                     [key], {});\n",
              "          if (!dataTable) return;\n",
              "\n",
              "          const docLinkHtml = 'Like what you see? Visit the ' +\n",
              "            '<a target=\"_blank\" href=https://colab.research.google.com/notebooks/data_table.ipynb>data table notebook</a>'\n",
              "            + ' to learn more about interactive tables.';\n",
              "          element.innerHTML = '';\n",
              "          dataTable['output_type'] = 'display_data';\n",
              "          await google.colab.output.renderOutput(dataTable, element);\n",
              "          const docLink = document.createElement('div');\n",
              "          docLink.innerHTML = docLinkHtml;\n",
              "          element.appendChild(docLink);\n",
              "        }\n",
              "      </script>\n",
              "    </div>\n",
              "  </div>\n",
              "  "
            ]
          },
          "metadata": {},
          "execution_count": 13
        }
      ],
      "source": [
        "# preview the end of the data frame\n",
        "df_with_numeric.tail()"
      ]
    },
    {
      "cell_type": "markdown",
      "metadata": {
        "id": "PE3RxnsCETiG"
      },
      "source": [
        "Convert the unnested rows into arrays by row.  And then group them by the unique pedestrian so there are 400 unique pedestrians with 99 rolling frames each and 15 features.\n",
        "\n",
        "Take every 10th sequence for efficiency reasons without compromising the variety of sequences."
      ]
    },
    {
      "cell_type": "code",
      "source": [
        "# define empty arrays\n",
        "bigger_frame2 = []\n",
        "X2 = []\n",
        "frames2 = []\n",
        "stop_pt = 0 # define the stopping point as a default\n",
        "\n",
        "for single_pedestrian in df_with_numeric['unique_pedestrian'].unique():\n",
        "  # define absolute stop points\n",
        "  abs_start_pt = df_with_numeric.unique_pedestrian.ne(single_pedestrian).idxmin() + 200\n",
        "  abs_stop_pt = abs_start_pt + 929 - 200 # stopping pt is 929 frames not 930 as the 930th crossing var will be predicted\n",
        "\n",
        "  start_pt = abs_start_pt # set the first start point\n",
        "\n",
        "  while stop_pt < abs_stop_pt:\n",
        "    stop_pt = start_pt + 100\n",
        "    frames2 = []\n",
        "  \n",
        "    for i in range(start_pt, stop_pt-1): # stop_pt is exclusive in the range\n",
        "      new_array = np.array(df_with_numeric.loc[i, 'bb_x':'crossing']) # include crossing as a variable\n",
        "      new_array = np.reshape(new_array, -1)\n",
        "      frames2 = np.append(frames2, new_array)\n",
        "  \n",
        "    frames2 = frames2.reshape(99, 16)\n",
        "\n",
        "    bigger_frame2 = np.array(frames2, dtype = float)\n",
        "    X2 = np.append(X2, bigger_frame2)\n",
        "    \n",
        "    # skip 10 frames so that our training set can cover more ground\n",
        "    start_pt = start_pt + 10"
      ],
      "metadata": {
        "id": "q_xWldRY1adm"
      },
      "execution_count": 14,
      "outputs": []
    },
    {
      "cell_type": "code",
      "source": [
        "X2 = X2.reshape(64*400, 99, 16) # 64 * 400 videos"
      ],
      "metadata": {
        "id": "_oxSmQcogYUD"
      },
      "execution_count": 15,
      "outputs": []
    },
    {
      "cell_type": "code",
      "source": [
        "# define the Y variable\n",
        "y_prelim = np.array(df_with_numeric['crossing'], dtype=int) # isolate 'crossing' variable\n",
        "new_y = [] # create new empty array which will house the edited sequence\n",
        "new_y_array = []\n",
        "y2 = []\n",
        "\n",
        "for single_pedestrian in df_with_numeric['unique_pedestrian'].unique():\n",
        "  \n",
        "  # define absolute stop points where I am extracting y-value\n",
        "  abs_start_pt = df_with_numeric.unique_pedestrian.ne(single_pedestrian).idxmin() + 299 # take the 300th value (because each sequence is now 100 frames but I skip the first 200 frames)\n",
        "  abs_stop_pt = abs_start_pt + (929 - 299) # this takes the 930th value from each\n",
        "  copy_val = abs_start_pt\n",
        "\n",
        "  while copy_val <= abs_stop_pt:\n",
        "    new_y = y_prelim[copy_val]\n",
        "    new_y_array = np.array(new_y, dtype = int)\n",
        "    y2 = np.append(y2, new_y_array)\n",
        "    copy_val = copy_val + 10"
      ],
      "metadata": {
        "id": "RYqXuruyqNF2"
      },
      "execution_count": 55,
      "outputs": []
    },
    {
      "cell_type": "markdown",
      "metadata": {
        "id": "p_1yYn8uqFCj"
      },
      "source": [
        "### Step 3. Create training and test sets and scale data"
      ]
    },
    {
      "cell_type": "code",
      "source": [
        "# preview the X array that we have created for this problem\n",
        "print(\"Length of X2:\", len(X2))\n",
        "print(\"Shape of X2:\", X2.shape)\n",
        "print(\"Preview of X2:\", X2[0])"
      ],
      "metadata": {
        "colab": {
          "base_uri": "https://localhost:8080/"
        },
        "id": "hA3voqBav4vD",
        "outputId": "20dacfbb-f1c4-4b0c-9fb8-f0b9ce34386d"
      },
      "execution_count": 17,
      "outputs": [
        {
          "output_type": "stream",
          "name": "stdout",
          "text": [
            "Length of X2: 25600\n",
            "Shape of X2: (25600, 99, 16)\n",
            "Preview of X2: [[0. 0. 0. ... 0. 0. 0.]\n",
            " [0. 0. 0. ... 0. 0. 0.]\n",
            " [0. 0. 0. ... 0. 0. 0.]\n",
            " ...\n",
            " [0. 0. 0. ... 0. 0. 0.]\n",
            " [0. 0. 0. ... 0. 0. 0.]\n",
            " [0. 0. 0. ... 0. 0. 0.]]\n"
          ]
        }
      ]
    },
    {
      "cell_type": "code",
      "source": [
        "print(\"Length of Y2:\", len(y2))\n",
        "print(\"Shape of Y2:\", y2.shape)"
      ],
      "metadata": {
        "colab": {
          "base_uri": "https://localhost:8080/"
        },
        "id": "_AiHN2SK06Lx",
        "outputId": "d3b1f487-3546-4f19-a04a-58163031ab35"
      },
      "execution_count": 18,
      "outputs": [
        {
          "output_type": "stream",
          "name": "stdout",
          "text": [
            "Length of Y2: 25600\n",
            "Shape of Y2: (25600,)\n"
          ]
        }
      ]
    },
    {
      "cell_type": "code",
      "source": [
        "# train test split the X and Y data\n",
        "X_train2, X_test2, y_train2, y_test2 = train_test_split(\n",
        "    X2, y2, test_size=0.1, shuffle=True)\n",
        "\n",
        "print(X_train2.shape, X_test2.shape, y_train2.shape, y_test2.shape)"
      ],
      "metadata": {
        "id": "OIwEgBtXv9VH",
        "colab": {
          "base_uri": "https://localhost:8080/"
        },
        "outputId": "5cfdb3b9-0e2a-481e-df33-56cd9c027ea7"
      },
      "execution_count": 19,
      "outputs": [
        {
          "output_type": "stream",
          "name": "stdout",
          "text": [
            "(23040, 99, 16) (2560, 99, 16) (23040,) (2560,)\n"
          ]
        }
      ]
    },
    {
      "cell_type": "code",
      "source": [
        "X_train2[2]"
      ],
      "metadata": {
        "id": "55e0gP-Dumtj",
        "colab": {
          "base_uri": "https://localhost:8080/"
        },
        "outputId": "4c1c3196-88dd-45f4-cc53-9571a7404305"
      },
      "execution_count": 45,
      "outputs": [
        {
          "output_type": "execute_result",
          "data": {
            "text/plain": [
              "array([[188.526316, 628.333333,  86.710526, ...,   0.      ,   0.      ,\n",
              "          1.      ],\n",
              "       [190.973684, 628.6     ,  85.805415, ...,   0.      ,   0.      ,\n",
              "          1.      ],\n",
              "       [193.421053, 628.866667,  84.939005, ...,   0.      ,   0.      ,\n",
              "          1.      ],\n",
              "       ...,\n",
              "       [588.      , 637.      ,  57.      , ...,   0.      ,   0.      ,\n",
              "          1.      ],\n",
              "       [598.      , 638.      ,  57.      , ...,   0.      ,   0.      ,\n",
              "          1.      ],\n",
              "       [607.      , 638.      ,  58.      , ...,   0.      ,   0.      ,\n",
              "          1.      ]])"
            ]
          },
          "metadata": {},
          "execution_count": 45
        }
      ]
    },
    {
      "cell_type": "code",
      "source": [
        "df_with_numeric[313:325]"
      ],
      "metadata": {
        "colab": {
          "base_uri": "https://localhost:8080/",
          "height": 426
        },
        "id": "WsB3lhj9oZrG",
        "outputId": "c9e95e39-df28-4a7d-bdf3-5b8dc9c4f712"
      },
      "execution_count": 51,
      "outputs": [
        {
          "output_type": "execute_result",
          "data": {
            "text/plain": [
              "    unique_pedestrian  frame_numbers  bb_x  bb_y  bb_width  bb_height  \\\n",
              "313      video_0071_1            313   0.0   0.0       0.0        0.0   \n",
              "314      video_0071_1            314   0.0   0.0       0.0        0.0   \n",
              "315      video_0071_1            315   0.0   0.0       0.0        0.0   \n",
              "316      video_0071_1            316   0.0   0.0       0.0        0.0   \n",
              "317      video_0071_1            317   0.0   0.0       0.0        0.0   \n",
              "318      video_0071_1            318   0.0   0.0       0.0        0.0   \n",
              "319      video_0071_1            319   0.0   0.0       0.0        0.0   \n",
              "320      video_0071_1            320   0.0   0.0       0.0        0.0   \n",
              "321      video_0071_1            321   0.0   0.0       0.0        0.0   \n",
              "322      video_0071_1            322   0.0   0.0       0.0        0.0   \n",
              "323      video_0071_1            323   0.0   0.0       0.0        0.0   \n",
              "324      video_0071_1            324   0.0   0.0       0.0        0.0   \n",
              "\n",
              "     moving_slow  stopped  handwave  look  clear_path  moving_fast  looking  \\\n",
              "313          0.0      0.0       0.0   0.0         0.0          0.0      0.0   \n",
              "314          0.0      0.0       0.0   0.0         0.0          0.0      0.0   \n",
              "315          0.0      0.0       0.0   0.0         0.0          0.0      0.0   \n",
              "316          0.0      0.0       0.0   0.0         0.0          0.0      0.0   \n",
              "317          0.0      0.0       0.0   0.0         0.0          0.0      0.0   \n",
              "318          0.0      0.0       0.0   0.0         0.0          0.0      0.0   \n",
              "319          0.0      0.0       0.0   0.0         0.0          0.0      0.0   \n",
              "320          0.0      0.0       0.0   0.0         0.0          0.0      0.0   \n",
              "321          0.0      0.0       0.0   0.0         0.0          0.0      0.0   \n",
              "322          0.0      0.0       0.0   0.0         0.0          0.0      0.0   \n",
              "323          0.0      0.0       0.0   0.0         0.0          0.0      0.0   \n",
              "324          0.0      0.0       0.0   0.0         0.0          0.0      0.0   \n",
              "\n",
              "     standing  slow_down  nod  speed_up  crossing  \n",
              "313       0.0        0.0  0.0       0.0       0.0  \n",
              "314       0.0        0.0  0.0       0.0       0.0  \n",
              "315       0.0        0.0  0.0       0.0       0.0  \n",
              "316       0.0        0.0  0.0       0.0       0.0  \n",
              "317       0.0        0.0  0.0       0.0       0.0  \n",
              "318       0.0        0.0  0.0       0.0       0.0  \n",
              "319       0.0        0.0  0.0       0.0       0.0  \n",
              "320       0.0        0.0  0.0       0.0       0.0  \n",
              "321       0.0        0.0  0.0       0.0       0.0  \n",
              "322       0.0        0.0  0.0       0.0       0.0  \n",
              "323       0.0        0.0  0.0       0.0       0.0  \n",
              "324       0.0        0.0  0.0       0.0       0.0  "
            ],
            "text/html": [
              "\n",
              "  <div id=\"df-0d0747c4-14e7-41ab-a409-6f4849e14df5\">\n",
              "    <div class=\"colab-df-container\">\n",
              "      <div>\n",
              "<style scoped>\n",
              "    .dataframe tbody tr th:only-of-type {\n",
              "        vertical-align: middle;\n",
              "    }\n",
              "\n",
              "    .dataframe tbody tr th {\n",
              "        vertical-align: top;\n",
              "    }\n",
              "\n",
              "    .dataframe thead th {\n",
              "        text-align: right;\n",
              "    }\n",
              "</style>\n",
              "<table border=\"1\" class=\"dataframe\">\n",
              "  <thead>\n",
              "    <tr style=\"text-align: right;\">\n",
              "      <th></th>\n",
              "      <th>unique_pedestrian</th>\n",
              "      <th>frame_numbers</th>\n",
              "      <th>bb_x</th>\n",
              "      <th>bb_y</th>\n",
              "      <th>bb_width</th>\n",
              "      <th>bb_height</th>\n",
              "      <th>moving_slow</th>\n",
              "      <th>stopped</th>\n",
              "      <th>handwave</th>\n",
              "      <th>look</th>\n",
              "      <th>clear_path</th>\n",
              "      <th>moving_fast</th>\n",
              "      <th>looking</th>\n",
              "      <th>standing</th>\n",
              "      <th>slow_down</th>\n",
              "      <th>nod</th>\n",
              "      <th>speed_up</th>\n",
              "      <th>crossing</th>\n",
              "    </tr>\n",
              "  </thead>\n",
              "  <tbody>\n",
              "    <tr>\n",
              "      <th>313</th>\n",
              "      <td>video_0071_1</td>\n",
              "      <td>313</td>\n",
              "      <td>0.0</td>\n",
              "      <td>0.0</td>\n",
              "      <td>0.0</td>\n",
              "      <td>0.0</td>\n",
              "      <td>0.0</td>\n",
              "      <td>0.0</td>\n",
              "      <td>0.0</td>\n",
              "      <td>0.0</td>\n",
              "      <td>0.0</td>\n",
              "      <td>0.0</td>\n",
              "      <td>0.0</td>\n",
              "      <td>0.0</td>\n",
              "      <td>0.0</td>\n",
              "      <td>0.0</td>\n",
              "      <td>0.0</td>\n",
              "      <td>0.0</td>\n",
              "    </tr>\n",
              "    <tr>\n",
              "      <th>314</th>\n",
              "      <td>video_0071_1</td>\n",
              "      <td>314</td>\n",
              "      <td>0.0</td>\n",
              "      <td>0.0</td>\n",
              "      <td>0.0</td>\n",
              "      <td>0.0</td>\n",
              "      <td>0.0</td>\n",
              "      <td>0.0</td>\n",
              "      <td>0.0</td>\n",
              "      <td>0.0</td>\n",
              "      <td>0.0</td>\n",
              "      <td>0.0</td>\n",
              "      <td>0.0</td>\n",
              "      <td>0.0</td>\n",
              "      <td>0.0</td>\n",
              "      <td>0.0</td>\n",
              "      <td>0.0</td>\n",
              "      <td>0.0</td>\n",
              "    </tr>\n",
              "    <tr>\n",
              "      <th>315</th>\n",
              "      <td>video_0071_1</td>\n",
              "      <td>315</td>\n",
              "      <td>0.0</td>\n",
              "      <td>0.0</td>\n",
              "      <td>0.0</td>\n",
              "      <td>0.0</td>\n",
              "      <td>0.0</td>\n",
              "      <td>0.0</td>\n",
              "      <td>0.0</td>\n",
              "      <td>0.0</td>\n",
              "      <td>0.0</td>\n",
              "      <td>0.0</td>\n",
              "      <td>0.0</td>\n",
              "      <td>0.0</td>\n",
              "      <td>0.0</td>\n",
              "      <td>0.0</td>\n",
              "      <td>0.0</td>\n",
              "      <td>0.0</td>\n",
              "    </tr>\n",
              "    <tr>\n",
              "      <th>316</th>\n",
              "      <td>video_0071_1</td>\n",
              "      <td>316</td>\n",
              "      <td>0.0</td>\n",
              "      <td>0.0</td>\n",
              "      <td>0.0</td>\n",
              "      <td>0.0</td>\n",
              "      <td>0.0</td>\n",
              "      <td>0.0</td>\n",
              "      <td>0.0</td>\n",
              "      <td>0.0</td>\n",
              "      <td>0.0</td>\n",
              "      <td>0.0</td>\n",
              "      <td>0.0</td>\n",
              "      <td>0.0</td>\n",
              "      <td>0.0</td>\n",
              "      <td>0.0</td>\n",
              "      <td>0.0</td>\n",
              "      <td>0.0</td>\n",
              "    </tr>\n",
              "    <tr>\n",
              "      <th>317</th>\n",
              "      <td>video_0071_1</td>\n",
              "      <td>317</td>\n",
              "      <td>0.0</td>\n",
              "      <td>0.0</td>\n",
              "      <td>0.0</td>\n",
              "      <td>0.0</td>\n",
              "      <td>0.0</td>\n",
              "      <td>0.0</td>\n",
              "      <td>0.0</td>\n",
              "      <td>0.0</td>\n",
              "      <td>0.0</td>\n",
              "      <td>0.0</td>\n",
              "      <td>0.0</td>\n",
              "      <td>0.0</td>\n",
              "      <td>0.0</td>\n",
              "      <td>0.0</td>\n",
              "      <td>0.0</td>\n",
              "      <td>0.0</td>\n",
              "    </tr>\n",
              "    <tr>\n",
              "      <th>318</th>\n",
              "      <td>video_0071_1</td>\n",
              "      <td>318</td>\n",
              "      <td>0.0</td>\n",
              "      <td>0.0</td>\n",
              "      <td>0.0</td>\n",
              "      <td>0.0</td>\n",
              "      <td>0.0</td>\n",
              "      <td>0.0</td>\n",
              "      <td>0.0</td>\n",
              "      <td>0.0</td>\n",
              "      <td>0.0</td>\n",
              "      <td>0.0</td>\n",
              "      <td>0.0</td>\n",
              "      <td>0.0</td>\n",
              "      <td>0.0</td>\n",
              "      <td>0.0</td>\n",
              "      <td>0.0</td>\n",
              "      <td>0.0</td>\n",
              "    </tr>\n",
              "    <tr>\n",
              "      <th>319</th>\n",
              "      <td>video_0071_1</td>\n",
              "      <td>319</td>\n",
              "      <td>0.0</td>\n",
              "      <td>0.0</td>\n",
              "      <td>0.0</td>\n",
              "      <td>0.0</td>\n",
              "      <td>0.0</td>\n",
              "      <td>0.0</td>\n",
              "      <td>0.0</td>\n",
              "      <td>0.0</td>\n",
              "      <td>0.0</td>\n",
              "      <td>0.0</td>\n",
              "      <td>0.0</td>\n",
              "      <td>0.0</td>\n",
              "      <td>0.0</td>\n",
              "      <td>0.0</td>\n",
              "      <td>0.0</td>\n",
              "      <td>0.0</td>\n",
              "    </tr>\n",
              "    <tr>\n",
              "      <th>320</th>\n",
              "      <td>video_0071_1</td>\n",
              "      <td>320</td>\n",
              "      <td>0.0</td>\n",
              "      <td>0.0</td>\n",
              "      <td>0.0</td>\n",
              "      <td>0.0</td>\n",
              "      <td>0.0</td>\n",
              "      <td>0.0</td>\n",
              "      <td>0.0</td>\n",
              "      <td>0.0</td>\n",
              "      <td>0.0</td>\n",
              "      <td>0.0</td>\n",
              "      <td>0.0</td>\n",
              "      <td>0.0</td>\n",
              "      <td>0.0</td>\n",
              "      <td>0.0</td>\n",
              "      <td>0.0</td>\n",
              "      <td>0.0</td>\n",
              "    </tr>\n",
              "    <tr>\n",
              "      <th>321</th>\n",
              "      <td>video_0071_1</td>\n",
              "      <td>321</td>\n",
              "      <td>0.0</td>\n",
              "      <td>0.0</td>\n",
              "      <td>0.0</td>\n",
              "      <td>0.0</td>\n",
              "      <td>0.0</td>\n",
              "      <td>0.0</td>\n",
              "      <td>0.0</td>\n",
              "      <td>0.0</td>\n",
              "      <td>0.0</td>\n",
              "      <td>0.0</td>\n",
              "      <td>0.0</td>\n",
              "      <td>0.0</td>\n",
              "      <td>0.0</td>\n",
              "      <td>0.0</td>\n",
              "      <td>0.0</td>\n",
              "      <td>0.0</td>\n",
              "    </tr>\n",
              "    <tr>\n",
              "      <th>322</th>\n",
              "      <td>video_0071_1</td>\n",
              "      <td>322</td>\n",
              "      <td>0.0</td>\n",
              "      <td>0.0</td>\n",
              "      <td>0.0</td>\n",
              "      <td>0.0</td>\n",
              "      <td>0.0</td>\n",
              "      <td>0.0</td>\n",
              "      <td>0.0</td>\n",
              "      <td>0.0</td>\n",
              "      <td>0.0</td>\n",
              "      <td>0.0</td>\n",
              "      <td>0.0</td>\n",
              "      <td>0.0</td>\n",
              "      <td>0.0</td>\n",
              "      <td>0.0</td>\n",
              "      <td>0.0</td>\n",
              "      <td>0.0</td>\n",
              "    </tr>\n",
              "    <tr>\n",
              "      <th>323</th>\n",
              "      <td>video_0071_1</td>\n",
              "      <td>323</td>\n",
              "      <td>0.0</td>\n",
              "      <td>0.0</td>\n",
              "      <td>0.0</td>\n",
              "      <td>0.0</td>\n",
              "      <td>0.0</td>\n",
              "      <td>0.0</td>\n",
              "      <td>0.0</td>\n",
              "      <td>0.0</td>\n",
              "      <td>0.0</td>\n",
              "      <td>0.0</td>\n",
              "      <td>0.0</td>\n",
              "      <td>0.0</td>\n",
              "      <td>0.0</td>\n",
              "      <td>0.0</td>\n",
              "      <td>0.0</td>\n",
              "      <td>0.0</td>\n",
              "    </tr>\n",
              "    <tr>\n",
              "      <th>324</th>\n",
              "      <td>video_0071_1</td>\n",
              "      <td>324</td>\n",
              "      <td>0.0</td>\n",
              "      <td>0.0</td>\n",
              "      <td>0.0</td>\n",
              "      <td>0.0</td>\n",
              "      <td>0.0</td>\n",
              "      <td>0.0</td>\n",
              "      <td>0.0</td>\n",
              "      <td>0.0</td>\n",
              "      <td>0.0</td>\n",
              "      <td>0.0</td>\n",
              "      <td>0.0</td>\n",
              "      <td>0.0</td>\n",
              "      <td>0.0</td>\n",
              "      <td>0.0</td>\n",
              "      <td>0.0</td>\n",
              "      <td>0.0</td>\n",
              "    </tr>\n",
              "  </tbody>\n",
              "</table>\n",
              "</div>\n",
              "      <button class=\"colab-df-convert\" onclick=\"convertToInteractive('df-0d0747c4-14e7-41ab-a409-6f4849e14df5')\"\n",
              "              title=\"Convert this dataframe to an interactive table.\"\n",
              "              style=\"display:none;\">\n",
              "        \n",
              "  <svg xmlns=\"http://www.w3.org/2000/svg\" height=\"24px\"viewBox=\"0 0 24 24\"\n",
              "       width=\"24px\">\n",
              "    <path d=\"M0 0h24v24H0V0z\" fill=\"none\"/>\n",
              "    <path d=\"M18.56 5.44l.94 2.06.94-2.06 2.06-.94-2.06-.94-.94-2.06-.94 2.06-2.06.94zm-11 1L8.5 8.5l.94-2.06 2.06-.94-2.06-.94L8.5 2.5l-.94 2.06-2.06.94zm10 10l.94 2.06.94-2.06 2.06-.94-2.06-.94-.94-2.06-.94 2.06-2.06.94z\"/><path d=\"M17.41 7.96l-1.37-1.37c-.4-.4-.92-.59-1.43-.59-.52 0-1.04.2-1.43.59L10.3 9.45l-7.72 7.72c-.78.78-.78 2.05 0 2.83L4 21.41c.39.39.9.59 1.41.59.51 0 1.02-.2 1.41-.59l7.78-7.78 2.81-2.81c.8-.78.8-2.07 0-2.86zM5.41 20L4 18.59l7.72-7.72 1.47 1.35L5.41 20z\"/>\n",
              "  </svg>\n",
              "      </button>\n",
              "      \n",
              "  <style>\n",
              "    .colab-df-container {\n",
              "      display:flex;\n",
              "      flex-wrap:wrap;\n",
              "      gap: 12px;\n",
              "    }\n",
              "\n",
              "    .colab-df-convert {\n",
              "      background-color: #E8F0FE;\n",
              "      border: none;\n",
              "      border-radius: 50%;\n",
              "      cursor: pointer;\n",
              "      display: none;\n",
              "      fill: #1967D2;\n",
              "      height: 32px;\n",
              "      padding: 0 0 0 0;\n",
              "      width: 32px;\n",
              "    }\n",
              "\n",
              "    .colab-df-convert:hover {\n",
              "      background-color: #E2EBFA;\n",
              "      box-shadow: 0px 1px 2px rgba(60, 64, 67, 0.3), 0px 1px 3px 1px rgba(60, 64, 67, 0.15);\n",
              "      fill: #174EA6;\n",
              "    }\n",
              "\n",
              "    [theme=dark] .colab-df-convert {\n",
              "      background-color: #3B4455;\n",
              "      fill: #D2E3FC;\n",
              "    }\n",
              "\n",
              "    [theme=dark] .colab-df-convert:hover {\n",
              "      background-color: #434B5C;\n",
              "      box-shadow: 0px 1px 3px 1px rgba(0, 0, 0, 0.15);\n",
              "      filter: drop-shadow(0px 1px 2px rgba(0, 0, 0, 0.3));\n",
              "      fill: #FFFFFF;\n",
              "    }\n",
              "  </style>\n",
              "\n",
              "      <script>\n",
              "        const buttonEl =\n",
              "          document.querySelector('#df-0d0747c4-14e7-41ab-a409-6f4849e14df5 button.colab-df-convert');\n",
              "        buttonEl.style.display =\n",
              "          google.colab.kernel.accessAllowed ? 'block' : 'none';\n",
              "\n",
              "        async function convertToInteractive(key) {\n",
              "          const element = document.querySelector('#df-0d0747c4-14e7-41ab-a409-6f4849e14df5');\n",
              "          const dataTable =\n",
              "            await google.colab.kernel.invokeFunction('convertToInteractive',\n",
              "                                                     [key], {});\n",
              "          if (!dataTable) return;\n",
              "\n",
              "          const docLinkHtml = 'Like what you see? Visit the ' +\n",
              "            '<a target=\"_blank\" href=https://colab.research.google.com/notebooks/data_table.ipynb>data table notebook</a>'\n",
              "            + ' to learn more about interactive tables.';\n",
              "          element.innerHTML = '';\n",
              "          dataTable['output_type'] = 'display_data';\n",
              "          await google.colab.output.renderOutput(dataTable, element);\n",
              "          const docLink = document.createElement('div');\n",
              "          docLink.innerHTML = docLinkHtml;\n",
              "          element.appendChild(docLink);\n",
              "        }\n",
              "      </script>\n",
              "    </div>\n",
              "  </div>\n",
              "  "
            ]
          },
          "metadata": {},
          "execution_count": 51
        }
      ]
    },
    {
      "cell_type": "markdown",
      "metadata": {
        "id": "5ExBCPjEnpVm"
      },
      "source": [
        "### Step 4. Run Models\n",
        "####  Model #1: Recurrent Neural Net\n",
        "> * uses Adadelta optimizer\n",
        "> * smallest of the 4 models in terms of layers\n",
        "> * no bidirectional layers"
      ]
    },
    {
      "cell_type": "code",
      "execution_count": 21,
      "metadata": {
        "id": "yuhnjsn6VtNm"
      },
      "outputs": [],
      "source": [
        "# defining the model\n",
        "\n",
        "hidden_size = 400\n",
        "\n",
        "dense_out_1 = 20\n",
        "dense_out_2 = 1\n",
        "\n",
        "model = Sequential()\n",
        "model.add(SimpleRNN(32, return_sequences = True))\n",
        "model.add(LSTM(hidden_size))\n",
        "model.add(Dense(dense_out_1, activation=\"relu\"))\n",
        "model.add(Dense(dense_out_2, activation=\"softmax\"))\n",
        "\n",
        "model.compile(loss=\"binary_crossentropy\", optimizer=\"adadelta\", metrics=[\"accuracy\"])"
      ]
    },
    {
      "cell_type": "code",
      "execution_count": 22,
      "metadata": {
        "id": "gsLDctvi5dYV",
        "colab": {
          "base_uri": "https://localhost:8080/"
        },
        "outputId": "c88536c9-f1bb-4e2b-88e3-c5d45fb55c6b"
      },
      "outputs": [
        {
          "output_type": "stream",
          "name": "stdout",
          "text": [
            "Epoch 1/2\n",
            "576/576 - 32s - loss: 0.6433 - accuracy: 0.1829 - 32s/epoch - 55ms/step\n",
            "Epoch 2/2\n",
            "576/576 - 28s - loss: 0.4228 - accuracy: 0.1829 - 28s/epoch - 49ms/step\n"
          ]
        }
      ],
      "source": [
        "# fitting the network (This takes about a minute per epoch). Output indicates we should consider slowing down learning process with Dropout.\n",
        "\n",
        "with tf.device('/device:GPU:0'): #\"/GPU:0\": Short-hand notation for the first GPU of your machine that is visible to TensorFlow.\n",
        "\n",
        "  history = model.fit(\n",
        "      X_train2,\n",
        "      y_train2,\n",
        "      epochs = 2,\n",
        "      batch_size = 40,\n",
        "      verbose = 2\n",
        "  )"
      ]
    },
    {
      "cell_type": "code",
      "execution_count": 23,
      "metadata": {
        "id": "sCHuPu3O5Yzm",
        "colab": {
          "base_uri": "https://localhost:8080/"
        },
        "outputId": "b3c1011e-b442-4c23-dbd9-787036804fda"
      },
      "outputs": [
        {
          "output_type": "stream",
          "name": "stdout",
          "text": [
            "Model: \"sequential\"\n",
            "_________________________________________________________________\n",
            " Layer (type)                Output Shape              Param #   \n",
            "=================================================================\n",
            " simple_rnn (SimpleRNN)      (40, 99, 32)              1568      \n",
            "                                                                 \n",
            " lstm (LSTM)                 (40, 400)                 692800    \n",
            "                                                                 \n",
            " dense (Dense)               (40, 20)                  8020      \n",
            "                                                                 \n",
            " dense_1 (Dense)             (40, 1)                   21        \n",
            "                                                                 \n",
            "=================================================================\n",
            "Total params: 702,409\n",
            "Trainable params: 702,409\n",
            "Non-trainable params: 0\n",
            "_________________________________________________________________\n"
          ]
        }
      ],
      "source": [
        "model.summary()"
      ]
    },
    {
      "cell_type": "code",
      "execution_count": 24,
      "metadata": {
        "id": "WXnpYJLw5KDO",
        "colab": {
          "base_uri": "https://localhost:8080/"
        },
        "outputId": "eef3a7d1-1d2f-4c46-b354-0ec8037b6a49"
      },
      "outputs": [
        {
          "output_type": "stream",
          "name": "stdout",
          "text": [
            "80/80 [==============================] - 2s 13ms/step - loss: 0.3244 - accuracy: 0.1867\n"
          ]
        },
        {
          "output_type": "execute_result",
          "data": {
            "text/plain": [
              "[0.32437556982040405, 0.18671874701976776]"
            ]
          },
          "metadata": {},
          "execution_count": 24
        }
      ],
      "source": [
        "# test score\n",
        "model.evaluate(X_test2, y_test2)"
      ]
    },
    {
      "cell_type": "markdown",
      "metadata": {
        "id": "-WQFFE-YnpVn"
      },
      "source": [
        "#### Model #2: Recurrent Neural Net\n",
        "> * Uses adam optimizer\n",
        "> * Incorporates dropout and recurrent dropout\n",
        "> * No bidirectional layers (this seemed to reduce performance)\n",
        "> * Uses 10% validation split"
      ]
    },
    {
      "cell_type": "code",
      "execution_count": 25,
      "metadata": {
        "id": "pkSZuP4JSPbL",
        "colab": {
          "base_uri": "https://localhost:8080/"
        },
        "outputId": "a8eabe16-a751-4d4a-f674-990b6b350b0d"
      },
      "outputs": [
        {
          "output_type": "stream",
          "name": "stdout",
          "text": [
            "WARNING:tensorflow:Layer lstm_1 will not use cuDNN kernels since it doesn't meet the criteria. It will use a generic GPU kernel as fallback when running on GPU.\n"
          ]
        }
      ],
      "source": [
        "# defining the second model\n",
        "\n",
        "model2 = Sequential()\n",
        "model2.add(SimpleRNN(32, return_sequences = True, input_shape = X_train2.shape[-2:]))\n",
        "model2.add(LSTM(hidden_size, dropout = 0.2, recurrent_dropout = 0.2, return_sequences = True))\n",
        "model2.add(SimpleRNN(32, return_sequences = True, input_shape = X_train2.shape[-2:]))\n",
        "model2.add(SimpleRNN(24, dropout = 0.1))\n",
        "model2.add(Dense(100, activation=\"relu\"))\n",
        "model2.add(Dense(1, activation=\"softmax\"))\n",
        "\n",
        "model2.compile(loss=\"binary_crossentropy\", optimizer=\"adam\", metrics=[\"accuracy\"])"
      ]
    },
    {
      "cell_type": "code",
      "execution_count": 26,
      "metadata": {
        "id": "exa-p-KmPDYr",
        "colab": {
          "base_uri": "https://localhost:8080/"
        },
        "outputId": "3f1c48d5-17b8-48d1-ef1a-62aa60bc4968"
      },
      "outputs": [
        {
          "output_type": "stream",
          "name": "stdout",
          "text": [
            "Epoch 1/2\n",
            "519/519 - 354s - loss: 0.2143 - accuracy: 0.1830 - val_loss: 0.1792 - val_accuracy: 0.1819 - 354s/epoch - 683ms/step\n",
            "Epoch 2/2\n",
            "519/519 - 345s - loss: 0.1828 - accuracy: 0.1830 - val_loss: 0.1757 - val_accuracy: 0.1819 - 345s/epoch - 665ms/step\n"
          ]
        }
      ],
      "source": [
        "with tf.device('/device:GPU:0'): #\"/GPU:0\": Short-hand notation for the first GPU of your machine that is visible to TensorFlow.\n",
        "\n",
        "  history2 = model2.fit(\n",
        "      X_train2,\n",
        "      y_train2,\n",
        "      epochs=2,\n",
        "      batch_size=40,\n",
        "      validation_split = 0.1,\n",
        "      verbose=2,\n",
        "      shuffle=True)"
      ]
    },
    {
      "cell_type": "code",
      "execution_count": 27,
      "metadata": {
        "id": "ag3CWASTiN9F",
        "colab": {
          "base_uri": "https://localhost:8080/"
        },
        "outputId": "4b5ff162-f4c6-454d-a0ee-a3096d266471"
      },
      "outputs": [
        {
          "output_type": "stream",
          "name": "stdout",
          "text": [
            "Model: \"sequential_1\"\n",
            "_________________________________________________________________\n",
            " Layer (type)                Output Shape              Param #   \n",
            "=================================================================\n",
            " simple_rnn_1 (SimpleRNN)    (None, 99, 32)            1568      \n",
            "                                                                 \n",
            " lstm_1 (LSTM)               (None, 99, 400)           692800    \n",
            "                                                                 \n",
            " simple_rnn_2 (SimpleRNN)    (None, 99, 32)            13856     \n",
            "                                                                 \n",
            " simple_rnn_3 (SimpleRNN)    (None, 24)                1368      \n",
            "                                                                 \n",
            " dense_2 (Dense)             (None, 100)               2500      \n",
            "                                                                 \n",
            " dense_3 (Dense)             (None, 1)                 101       \n",
            "                                                                 \n",
            "=================================================================\n",
            "Total params: 712,193\n",
            "Trainable params: 712,193\n",
            "Non-trainable params: 0\n",
            "_________________________________________________________________\n"
          ]
        }
      ],
      "source": [
        "model2.summary()"
      ]
    },
    {
      "cell_type": "code",
      "execution_count": 28,
      "metadata": {
        "id": "HndHrJrrPKJk",
        "colab": {
          "base_uri": "https://localhost:8080/"
        },
        "outputId": "289248c2-9b9b-4461-de34-b67a5e20a13c"
      },
      "outputs": [
        {
          "output_type": "stream",
          "name": "stdout",
          "text": [
            "80/80 [==============================] - 5s 50ms/step - loss: 0.1710 - accuracy: 0.1867\n"
          ]
        },
        {
          "output_type": "execute_result",
          "data": {
            "text/plain": [
              "[0.17101629078388214, 0.18671874701976776]"
            ]
          },
          "metadata": {},
          "execution_count": 28
        }
      ],
      "source": [
        "# evaluate test set results\n",
        "model2.evaluate(X_test2, y_test2)"
      ]
    },
    {
      "cell_type": "markdown",
      "metadata": {
        "id": "USpGJq1bVkTx"
      },
      "source": [
        "#### Model #3: Recurrent Neural Net\n",
        "\n",
        "> * Uses Adagrad optimizer\n",
        "> * Incorporates more RNN layers with recurrent dropout and dropout\n",
        "> * Includes Flatten, Dropout, and Batch Normalization transformations in the dense layers\n",
        "> * Includes 2 bidirectional layers\n",
        "> * No validation split"
      ]
    },
    {
      "cell_type": "code",
      "execution_count": 29,
      "metadata": {
        "id": "Pa0wx10LVtrG",
        "colab": {
          "base_uri": "https://localhost:8080/"
        },
        "outputId": "f40ab3f2-8339-42b4-ce85-281003b6f391"
      },
      "outputs": [
        {
          "output_type": "stream",
          "name": "stdout",
          "text": [
            "WARNING:tensorflow:Layer lstm_4 will not use cuDNN kernels since it doesn't meet the criteria. It will use a generic GPU kernel as fallback when running on GPU.\n"
          ]
        }
      ],
      "source": [
        "# defining the second model\n",
        "\n",
        "model3 = Sequential()\n",
        "model3.add(SimpleRNN(32, return_sequences = True))\n",
        "model3.add(Bidirectional(LSTM(hidden_size, return_sequences = True)))\n",
        "model3.add(SimpleRNN(64, dropout = 0.1, return_sequences = True))\n",
        "model3.add(LSTM(hidden_size, dropout = 0.1, return_sequences = True))\n",
        "model3.add(SimpleRNN(64, dropout = 0.1, return_sequences = True))\n",
        "model3.add(LSTM(hidden_size, recurrent_dropout = 0.2, return_sequences = True))\n",
        "model3.add(Bidirectional(LSTM(hidden_size, return_sequences = True)))\n",
        "model3.add(Flatten())\n",
        "model3.add(Dense(250, activation = \"relu\"))\n",
        "model3.add(BatchNormalization())\n",
        "model3.add(Dense(45, activation = \"relu\"))\n",
        "model3.add(Dropout(0.1))\n",
        "model3.add(Dense(1, activation=\"softmax\"))\n",
        "\n",
        "model3.compile(loss=\"binary_crossentropy\", optimizer=\"adagrad\", metrics=[\"accuracy\"])"
      ]
    },
    {
      "cell_type": "code",
      "execution_count": 30,
      "metadata": {
        "id": "4Oeeys29PO_7",
        "colab": {
          "base_uri": "https://localhost:8080/"
        },
        "outputId": "7ec8a867-f1f4-421e-8a81-f5c19d5c4d8c"
      },
      "outputs": [
        {
          "output_type": "stream",
          "name": "stdout",
          "text": [
            "Epoch 1/3\n",
            "768/768 - 300s - loss: 0.1894 - accuracy: 0.1829 - 300s/epoch - 390ms/step\n",
            "Epoch 2/3\n",
            "768/768 - 288s - loss: 0.1707 - accuracy: 0.1829 - 288s/epoch - 374ms/step\n",
            "Epoch 3/3\n",
            "768/768 - 287s - loss: 0.1654 - accuracy: 0.1829 - 287s/epoch - 374ms/step\n"
          ]
        }
      ],
      "source": [
        "with tf.device('/device:GPU:0'): #\"/GPU:0\": Short-hand notation for the first GPU of your machine that is visible to TensorFlow.\n",
        "\n",
        "  history3 = model3.fit(\n",
        "      X_train2,\n",
        "      y_train2,\n",
        "      epochs=3,\n",
        "      batch_size=30,\n",
        "      verbose=2\n",
        "  )"
      ]
    },
    {
      "cell_type": "code",
      "execution_count": 31,
      "metadata": {
        "id": "L4TAU1yOjUe6",
        "colab": {
          "base_uri": "https://localhost:8080/"
        },
        "outputId": "91c0dc2d-4da0-4024-b5a4-a8cf4e04d408"
      },
      "outputs": [
        {
          "output_type": "stream",
          "name": "stdout",
          "text": [
            "Model: \"sequential_2\"\n",
            "_________________________________________________________________\n",
            " Layer (type)                Output Shape              Param #   \n",
            "=================================================================\n",
            " simple_rnn_4 (SimpleRNN)    (30, 99, 32)              1568      \n",
            "                                                                 \n",
            " bidirectional (Bidirectiona  (30, 99, 800)            1385600   \n",
            " l)                                                              \n",
            "                                                                 \n",
            " simple_rnn_5 (SimpleRNN)    (30, 99, 64)              55360     \n",
            "                                                                 \n",
            " lstm_3 (LSTM)               (30, 99, 400)             744000    \n",
            "                                                                 \n",
            " simple_rnn_6 (SimpleRNN)    (30, 99, 64)              29760     \n",
            "                                                                 \n",
            " lstm_4 (LSTM)               (30, 99, 400)             744000    \n",
            "                                                                 \n",
            " bidirectional_1 (Bidirectio  (30, 99, 800)            2563200   \n",
            " nal)                                                            \n",
            "                                                                 \n",
            " flatten (Flatten)           (30, 79200)               0         \n",
            "                                                                 \n",
            " dense_4 (Dense)             (30, 250)                 19800250  \n",
            "                                                                 \n",
            " batch_normalization (BatchN  (30, 250)                1000      \n",
            " ormalization)                                                   \n",
            "                                                                 \n",
            " dense_5 (Dense)             (30, 45)                  11295     \n",
            "                                                                 \n",
            " dropout (Dropout)           (30, 45)                  0         \n",
            "                                                                 \n",
            " dense_6 (Dense)             (30, 1)                   46        \n",
            "                                                                 \n",
            "=================================================================\n",
            "Total params: 25,336,079\n",
            "Trainable params: 25,335,579\n",
            "Non-trainable params: 500\n",
            "_________________________________________________________________\n"
          ]
        }
      ],
      "source": [
        "model3.summary()"
      ]
    },
    {
      "cell_type": "code",
      "execution_count": 32,
      "metadata": {
        "id": "eqIDdPY8POwI",
        "colab": {
          "base_uri": "https://localhost:8080/"
        },
        "outputId": "53d5043e-3e34-4da4-dfb0-90a3de29456d"
      },
      "outputs": [
        {
          "output_type": "stream",
          "name": "stdout",
          "text": [
            "80/80 [==============================] - 9s 65ms/step - loss: 0.1517 - accuracy: 0.1867\n"
          ]
        },
        {
          "output_type": "execute_result",
          "data": {
            "text/plain": [
              "[0.15172900259494781, 0.18671874701976776]"
            ]
          },
          "metadata": {},
          "execution_count": 32
        }
      ],
      "source": [
        "# evaluate test set results\n",
        "model3.evaluate(X_test2, y_test2)"
      ]
    },
    {
      "cell_type": "markdown",
      "metadata": {
        "id": "2yefo9RbqSYW"
      },
      "source": [
        "#### Model #4: Recurrent Neural Net\n",
        "> * Uses a different number of units in the Simple RNNs, and these units gradually reduce across the flow of the layers\n",
        "> * Back-to-back SimpleRNN layers\n",
        "> * Uses an Adam optimizer\n",
        "> * One epoch\n",
        "> * 3 consecutive dense layers\n",
        "> * No bidirectional layers\n",
        "> * Incorporate a single GRU layer"
      ]
    },
    {
      "cell_type": "code",
      "execution_count": 33,
      "metadata": {
        "id": "iO9562OsqOEg",
        "colab": {
          "base_uri": "https://localhost:8080/"
        },
        "outputId": "8d2e705f-e4c9-44f9-f17e-ddb912a46a19"
      },
      "outputs": [
        {
          "output_type": "stream",
          "name": "stdout",
          "text": [
            "WARNING:tensorflow:Layer lstm_6 will not use cuDNN kernels since it doesn't meet the criteria. It will use a generic GPU kernel as fallback when running on GPU.\n",
            "WARNING:tensorflow:Layer lstm_7 will not use cuDNN kernels since it doesn't meet the criteria. It will use a generic GPU kernel as fallback when running on GPU.\n"
          ]
        }
      ],
      "source": [
        "# defining the second model\n",
        "\n",
        "model4 = Sequential()\n",
        "model4.add(SimpleRNN(240, return_sequences = True))\n",
        "model4.add(SimpleRNN(124, dropout = 0.1, return_sequences = True))\n",
        "model4.add(LSTM(90, recurrent_dropout = 0.2, return_sequences = True))\n",
        "model4.add(GRU(40, return_sequences = True))\n",
        "model4.add(LSTM(90, recurrent_dropout = 0.2, return_sequences = True))\n",
        "model4.add(SimpleRNN(32, return_sequences = True))\n",
        "model4.add(Flatten())\n",
        "model4.add(Dense(250, activation = \"relu\"))\n",
        "model4.add(BatchNormalization())\n",
        "model4.add(Dense(120, activation = \"relu\"))\n",
        "model4.add(Dense(1, activation=\"softmax\"))\n",
        "\n",
        "model4.compile(loss=\"binary_crossentropy\", optimizer = \"adam\", metrics=[\"accuracy\"])"
      ]
    },
    {
      "cell_type": "code",
      "execution_count": 57,
      "metadata": {
        "id": "Fk3s6bDuqNyX",
        "colab": {
          "base_uri": "https://localhost:8080/"
        },
        "outputId": "b35f445c-7e4f-47f5-b800-1bd475df9321"
      },
      "outputs": [
        {
          "output_type": "stream",
          "name": "stdout",
          "text": [
            "2304/2304 - 1131s - loss: 0.2029 - accuracy: 0.1829 - 1131s/epoch - 491ms/step\n"
          ]
        }
      ],
      "source": [
        "with tf.device('/device:GPU:0'): #\"/GPU:0\": Short-hand notation for the first GPU of your machine that is visible to TensorFlow.\n",
        "\n",
        "  history4 = model4.fit(\n",
        "      X_train2,\n",
        "      y_train2,\n",
        "      epochs=1,\n",
        "      batch_size=10,\n",
        "      verbose=2,\n",
        "      shuffle = True\n",
        "  )"
      ]
    },
    {
      "cell_type": "code",
      "execution_count": 58,
      "metadata": {
        "id": "FhsgKeRB5zOq",
        "colab": {
          "base_uri": "https://localhost:8080/"
        },
        "outputId": "bbd07619-51c0-4644-fa2b-f76fda8fa042"
      },
      "outputs": [
        {
          "output_type": "stream",
          "name": "stdout",
          "text": [
            "Model: \"sequential_3\"\n",
            "_________________________________________________________________\n",
            " Layer (type)                Output Shape              Param #   \n",
            "=================================================================\n",
            " simple_rnn_7 (SimpleRNN)    (10, 99, 240)             61680     \n",
            "                                                                 \n",
            " simple_rnn_8 (SimpleRNN)    (10, 99, 124)             45260     \n",
            "                                                                 \n",
            " lstm_6 (LSTM)               (10, 99, 90)              77400     \n",
            "                                                                 \n",
            " gru (GRU)                   (10, 99, 40)              15840     \n",
            "                                                                 \n",
            " lstm_7 (LSTM)               (10, 99, 90)              47160     \n",
            "                                                                 \n",
            " simple_rnn_9 (SimpleRNN)    (10, 99, 32)              3936      \n",
            "                                                                 \n",
            " flatten_1 (Flatten)         (10, 3168)                0         \n",
            "                                                                 \n",
            " dense_7 (Dense)             (10, 250)                 792250    \n",
            "                                                                 \n",
            " batch_normalization_1 (Batc  (10, 250)                1000      \n",
            " hNormalization)                                                 \n",
            "                                                                 \n",
            " dense_8 (Dense)             (10, 120)                 30120     \n",
            "                                                                 \n",
            " dense_9 (Dense)             (10, 1)                   121       \n",
            "                                                                 \n",
            "=================================================================\n",
            "Total params: 1,074,767\n",
            "Trainable params: 1,074,267\n",
            "Non-trainable params: 500\n",
            "_________________________________________________________________\n"
          ]
        }
      ],
      "source": [
        "model4.summary()"
      ]
    },
    {
      "cell_type": "code",
      "execution_count": 59,
      "metadata": {
        "id": "iHJTVbeSqNcg",
        "colab": {
          "base_uri": "https://localhost:8080/"
        },
        "outputId": "04d59125-5ddd-4fe5-9fd8-1f906a0f0f9f"
      },
      "outputs": [
        {
          "output_type": "stream",
          "name": "stdout",
          "text": [
            "80/80 [==============================] - 8s 84ms/step - loss: 0.1891 - accuracy: 0.1867\n"
          ]
        },
        {
          "output_type": "execute_result",
          "data": {
            "text/plain": [
              "[0.18910416960716248, 0.18671874701976776]"
            ]
          },
          "metadata": {},
          "execution_count": 59
        }
      ],
      "source": [
        "# evaluate test set results\n",
        "model4.evaluate(X_test2, y_test2)"
      ]
    },
    {
      "cell_type": "markdown",
      "source": [
        "#### Mode #5: Experiment with Keras Tuner\n"
      ],
      "metadata": {
        "id": "kY4R0ZsQgc86"
      }
    },
    {
      "cell_type": "code",
      "source": [
        "# define keras tuner function\n",
        "\n",
        "def build_model(hp):\n",
        "  model5 = Sequential()\n",
        "  model5.add(SimpleRNN(hp.Choice('units', [8, 16, 32]), return_sequences = True, input_shape = X_train2.shape[-2:]))\n",
        "  model5.add(LSTM(hidden_size, dropout = 0.2, recurrent_dropout = 0.2, return_sequences = True))\n",
        "  model5.add(SimpleRNN(hp.Choice('units', [8, 16, 32]), return_sequences = True, input_shape = X_train2.shape[-2:]))\n",
        "  model5.add(SimpleRNN(hp.Choice('units', [8, 16, 32]), dropout = 0.1))\n",
        "  model5.add(Dense(100, activation=\"relu\"))\n",
        "  model5.add(Dense(1, activation=\"softmax\"))\n",
        "\n",
        "  model5.compile(loss=\"binary_crossentropy\", optimizer=\"adam\", metrics=[\"accuracy\"])\n",
        "  return model5\n"
      ],
      "metadata": {
        "id": "ry3bgBFxgcLy"
      },
      "execution_count": 60,
      "outputs": []
    },
    {
      "cell_type": "code",
      "source": [
        "tuner = kt.RandomSearch(\n",
        "    build_model,\n",
        "    objective='loss',\n",
        "    max_trials=5)"
      ],
      "metadata": {
        "id": "Tb5r6uLfkQS-",
        "colab": {
          "base_uri": "https://localhost:8080/"
        },
        "outputId": "a2426ae7-80f5-4a2e-cf3c-8420563d2496"
      },
      "execution_count": 61,
      "outputs": [
        {
          "output_type": "stream",
          "name": "stdout",
          "text": [
            "INFO:tensorflow:Reloading Oracle from existing project ./untitled_project/oracle.json\n",
            "WARNING:tensorflow:Layer lstm_8 will not use cuDNN kernels since it doesn't meet the criteria. It will use a generic GPU kernel as fallback when running on GPU.\n"
          ]
        }
      ]
    },
    {
      "cell_type": "code",
      "source": [
        "tuner.search(X_train2, y_train2, epochs=5, validation_split = 0.1)\n",
        "best_model = tuner.get_best_models()[0]"
      ],
      "metadata": {
        "id": "Nv6N8zB8pDXL",
        "colab": {
          "base_uri": "https://localhost:8080/"
        },
        "outputId": "f9fa978f-2323-4e9d-8430-87549e9a06c4"
      },
      "execution_count": 62,
      "outputs": [
        {
          "output_type": "stream",
          "name": "stdout",
          "text": [
            "Trial 2 Complete [00h 20m 26s]\n",
            "loss: 0.17017751932144165\n",
            "\n",
            "Best loss So Far: 0.17017751932144165\n",
            "Total elapsed time: 00h 40m 52s\n",
            "INFO:tensorflow:Oracle triggered exit\n",
            "WARNING:tensorflow:Layer lstm will not use cuDNN kernels since it doesn't meet the criteria. It will use a generic GPU kernel as fallback when running on GPU.\n"
          ]
        }
      ]
    },
    {
      "cell_type": "code",
      "source": [
        "best_model.evaluate(X_test2, y_test2)"
      ],
      "metadata": {
        "id": "kxPpH3S8yo1B",
        "colab": {
          "base_uri": "https://localhost:8080/"
        },
        "outputId": "d1396002-f48b-4e16-ecf6-d342e510f675"
      },
      "execution_count": 63,
      "outputs": [
        {
          "output_type": "stream",
          "name": "stdout",
          "text": [
            "80/80 [==============================] - 5s 50ms/step - loss: 0.1621 - accuracy: 0.1867\n"
          ]
        },
        {
          "output_type": "execute_result",
          "data": {
            "text/plain": [
              "[0.16210821270942688, 0.18671874701976776]"
            ]
          },
          "metadata": {},
          "execution_count": 63
        }
      ]
    },
    {
      "cell_type": "markdown",
      "metadata": {
        "id": "HQyjh_cBqFCl"
      },
      "source": [
        "### *Question 5: Select the model that best fits the problem you are trying to solve and discuss why it fulfills this purpose*"
      ]
    },
    {
      "cell_type": "markdown",
      "metadata": {
        "id": "EV4ZZq1GAxI3"
      },
      "source": [
        "After running five (5) models, I consider my second model to be the best, based on the classification performance against my test set and the simplicity of the model.  Since my models are obtaining identical test scores, this guides me in my next steps to refine my various RNN architectures to see if I can increase my performance and generate more variance in my metrics.\n",
        "\n",
        "I used the test set accuracy rate as the primary metric for comparing my models, because performance on unseen data is extremely important, especially in the context of recognizing pedestrian crossings.\n",
        "\n",
        "All five models were RNNs and I was limited to this specific type of architecture given the sequential nature of my data.  Accordingly, I was able to experiment with various layers specific to RNNs like LSTMs, GRUs, and Bidirectional layers, as well as standard neural network layers like dropout and batch normalization.\n",
        "\n",
        "Of course, I will acknowledge that the test performance in the 0.18 range is not rigorous enough to be the appropriate solution for a serious issue like detecting pedestrian crossings.  After all, we need nearly 100% accuracy since a pedestrian injury or fatality comes at an incredibly high cost.  However, I believe this is a compelling starting point when tackling the very serious challenge of detecting pedestrian crossing intent using the actions leading up to their walk."
      ]
    },
    {
      "cell_type": "markdown",
      "metadata": {
        "id": "ID3Zp0T9TbE1"
      },
      "source": [
        "#### References\n",
        "---\n",
        "Rasouli, A and Kotseruba, I and Tsotsos, J K. (2017). \"Agreeing to cross: How drivers and pedestrians communicate\". IEEE Intelligent Vehicles Symposium (IV). 264 - 269"
      ]
    },
    {
      "cell_type": "code",
      "source": [
        "%%shell\n",
        "jupyter nbconvert --to html 'RNNs_Crossing_Prediction.ipynb'"
      ],
      "metadata": {
        "id": "aaSgC0ThVvJP"
      },
      "execution_count": null,
      "outputs": []
    }
  ],
  "metadata": {
    "colab": {
      "collapsed_sections": [
        "7oeoPm_JFbge"
      ],
      "name": "RNNs - Crossing Prediction.ipynb",
      "provenance": []
    },
    "kernelspec": {
      "display_name": "Python 3",
      "language": "python",
      "name": "python3"
    },
    "language_info": {
      "codemirror_mode": {
        "name": "ipython",
        "version": 3
      },
      "file_extension": ".py",
      "mimetype": "text/x-python",
      "name": "python",
      "nbconvert_exporter": "python",
      "pygments_lexer": "ipython3",
      "version": "3.8.8"
    },
    "accelerator": "GPU"
  },
  "nbformat": 4,
  "nbformat_minor": 0
}